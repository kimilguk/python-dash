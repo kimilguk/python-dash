{
 "cells": [
  {
   "cell_type": "markdown",
   "metadata": {},
   "source": [
    "# 8장 웹 API"
   ]
  },
  {
   "cell_type": "markdown",
   "metadata": {},
   "source": [
    "## 8.1 웹 API의 이해"
   ]
  },
  {
   "cell_type": "markdown",
   "metadata": {},
   "source": [
    "### 8.1.1 웹 API의 데이터 획득 과정"
   ]
  },
  {
   "cell_type": "markdown",
   "metadata": {},
   "source": [
    "### 8.1.2 웹 API의 인증 방식 OAuth2.0(Open Authorization권한부여) / Authentication인증(SNS 인증방식)과 구별한다"
   ]
  },
  {
   "cell_type": "markdown",
   "metadata": {},
   "source": [
    "### 8.1.3 응답 데이터의 형식 및 처리"
   ]
  },
  {
   "cell_type": "markdown",
   "metadata": {},
   "source": [
    "#### JSON 데이터 형식"
   ]
  },
  {
   "cell_type": "markdown",
   "metadata": {},
   "source": [
    "#### JSON 데이터 변환 및 데이터 추출"
   ]
  },
  {
   "cell_type": "markdown",
   "metadata": {},
   "source": [
    "[8장: 341페이지]"
   ]
  },
  {
   "cell_type": "code",
   "execution_count": null,
   "metadata": {},
   "outputs": [],
   "source": [
    "import json\n",
    "\n",
    "python_dict = {\n",
    "    \"이름\": \"홍길동\",\n",
    "    \"나이\": 25,\n",
    "    \"거주지\": \"서울\",\n",
    "    \"신체정보\": {\n",
    "        \"키\": 175.4,\n",
    "        \"몸무게\": 71.2\n",
    "    },\n",
    "    \"취미\": [\n",
    "        \"등산\",\n",
    "        \"자전거타기\",\n",
    "        \"독서\"\n",
    "    ]\n",
    "}\n",
    "type(python_dict)"
   ]
  },
  {
   "cell_type": "code",
   "execution_count": null,
   "metadata": {},
   "outputs": [],
   "source": [
    "json_data = json.dumps(python_dict) #dict 딕셔너리 데이터를 json 모양의 str 로 반환한다.\n",
    "type(json_data)"
   ]
  },
  {
   "cell_type": "markdown",
   "metadata": {},
   "source": [
    "[8장: 342페이지]"
   ]
  },
  {
   "cell_type": "code",
   "execution_count": null,
   "metadata": {},
   "outputs": [],
   "source": [
    "print(json_data) #유니코드 문자열 이다."
   ]
  },
  {
   "cell_type": "code",
   "execution_count": null,
   "metadata": {
    "scrolled": false
   },
   "outputs": [],
   "source": [
    "json_data = json.dumps(python_dict, indent=3, sort_keys=True, ensure_ascii=False) #ensure_ascii=True 이스케이프 특수문자 그대로 출력\n",
    "print(json_data) #sort_keys=True Key:Value 중 Key 오름차순으로 정렬(가나다 순)"
   ]
  },
  {
   "cell_type": "code",
   "execution_count": null,
   "metadata": {},
   "outputs": [],
   "source": [
    "dict_data = json.loads(json_data) # JSON 데이터를 파이썬의 딕셔너리 타입으로 변환\n",
    "type(dict_data)\n",
    "print(dict_data)"
   ]
  },
  {
   "cell_type": "markdown",
   "metadata": {},
   "source": [
    "[8장: 343페이지] 딕셔너리 데이터는 ['키'], list 데이터는 [인덱스번호] 로 데이터를 반환받을 수 있다."
   ]
  },
  {
   "cell_type": "code",
   "execution_count": null,
   "metadata": {},
   "outputs": [],
   "source": [
    "dict_data['신체정보']['몸무게']"
   ]
  },
  {
   "cell_type": "code",
   "execution_count": null,
   "metadata": {},
   "outputs": [],
   "source": [
    "dict_data['취미']"
   ]
  },
  {
   "cell_type": "code",
   "execution_count": null,
   "metadata": {},
   "outputs": [],
   "source": [
    "dict_data['취미'][0]"
   ]
  },
  {
   "cell_type": "markdown",
   "metadata": {},
   "source": [
    "## 8.2 API 키 없이 시간 관련 데이터 가져오기 "
   ]
  },
  {
   "cell_type": "markdown",
   "metadata": {},
   "source": [
    "### 8.2.1 시간대 리스트와 현재 시각 데이터 가져오기"
   ]
  },
  {
   "cell_type": "markdown",
   "metadata": {},
   "source": [
    "[8장: 345페이지]"
   ]
  },
  {
   "cell_type": "code",
   "execution_count": null,
   "metadata": {},
   "outputs": [],
   "source": [
    "import requests  \n",
    "import json\n",
    "\n",
    "url = \"https://timeapi.io/api/TimeZone/AvailableTimeZones\"\n",
    "\n",
    "r = requests.get(url)\n",
    "r.text[:70] # 문자열 중 앞의 일부만 출력\n",
    "# r.text    # 문자열 전체를 출력"
   ]
  },
  {
   "cell_type": "markdown",
   "metadata": {},
   "source": [
    "[8장: 346페이지] 아래 /api/Time/current/zone 미리보기 https://timeapi.io/swagger/index.html\n",
    "![타임API사용 예](./image/timeapi_use.jpg)"
   ]
  },
  {
   "cell_type": "code",
   "execution_count": null,
   "metadata": {},
   "outputs": [],
   "source": [
    "import requests  \n",
    "import json\n",
    "\n",
    "url = \"https://timeapi.io/api/Time/current/zone?timeZone=Asia/Seoul\"\n",
    "\n",
    "r = requests.get(url)\n",
    "print(r.text) "
   ]
  },
  {
   "cell_type": "code",
   "execution_count": null,
   "metadata": {},
   "outputs": [],
   "source": [
    "url = \"https://timeapi.io/api/Time/current/zone\" # 요청 주소\n",
    "parameters = {\"timeZone\": \"Asia/Seoul\"}          # 요청 매개 변수 생성 Key:Value Json 형태 = dictionary 형택\n",
    "\n",
    "r = requests.get(url, params=parameters)\n",
    "print(r.text) "
   ]
  },
  {
   "cell_type": "code",
   "execution_count": null,
   "metadata": {},
   "outputs": [],
   "source": [
    "json_to_dict = json.loads(r.text) #문자열을 json=dictionary 객체로 반환\n",
    "type(json_to_dict)"
   ]
  },
  {
   "cell_type": "markdown",
   "metadata": {},
   "source": [
    "[8장: 347페이지]"
   ]
  },
  {
   "cell_type": "code",
   "execution_count": null,
   "metadata": {},
   "outputs": [],
   "source": [
    "json_to_dict = r.json() #r.text 대신 JSON 형태의 str 데이터를 파이썬의 딕셔너리 타입(Json객체)로 변환\n",
    "type(json_to_dict)"
   ]
  },
  {
   "cell_type": "code",
   "execution_count": null,
   "metadata": {},
   "outputs": [],
   "source": [
    "import requests\n",
    "import json\n",
    "\n",
    "url = \"https://timeapi.io/api/Time/current/zone?timeZone=Asia/Seoul\"\n",
    "\n",
    "date_time_dict = requests.get(url).json()\n",
    "type(date_time_dict)"
   ]
  },
  {
   "cell_type": "code",
   "execution_count": null,
   "metadata": {},
   "outputs": [],
   "source": [
    "date_time_dict"
   ]
  },
  {
   "cell_type": "markdown",
   "metadata": {},
   "source": [
    "[8장: 348페이지]"
   ]
  },
  {
   "cell_type": "code",
   "execution_count": null,
   "metadata": {},
   "outputs": [],
   "source": [
    "date_time_dict[\"dateTime\"], date_time_dict[\"timeZone\"], date_time_dict[\"dayOfWeek\"]"
   ]
  },
  {
   "cell_type": "markdown",
   "metadata": {},
   "source": [
    "### 8.2.2 시간대 변환 데이터 가져오기"
   ]
  },
  {
   "cell_type": "markdown",
   "metadata": {},
   "source": [
    "[8장: 349페이지] 타임 API 사용 https://timeapi.io/swagger/index.html\n",
    "![타임API사용 예](./image/timeapi.jpg)"
   ]
  },
  {
   "cell_type": "code",
   "execution_count": null,
   "metadata": {},
   "outputs": [],
   "source": [
    "import requests\n",
    "import json\n",
    "\n",
    "url = 'https://timeapi.io/api/Conversion/ConvertTimeZone' # 요청 주소\n",
    "\n",
    "from_time_zone = \"Asia/Seoul\"\n",
    "from_date_time = \"2021-03-14 17:45:00\"\n",
    "to_time_zone = \"UTC\" # GMT로 지정해도 결과는 동일\n",
    "\"\"\"\n",
    "지구의 기준 시간대는 영국의 그리니치 천문대(본초 자오선, 경도 0도)를 기준으로 지역에 따른 시간의 차이 갖는다.\n",
    "그래서, 협정 세계시(UTC)를 기준으로 한 상대적인 차이로 시간대를 나타낸다.한국시각은 UTC+09:00\n",
    "UTC 시간대는 국가별 시간코드 이름을 갖는다. 영국코드는 GMT(UTC)와 같다. 한국코드는 KST(UTC+9), 미국코드는 EST(UTC-5) 이다.\n",
    "\"\"\"\n",
    "headers = {\"Content-Type\": \"application/json\"}\n",
    "json_data = json.dumps({\"fromTimeZone\": from_time_zone,\n",
    "                        \"dateTime\": from_date_time,\n",
    "                        \"toTimeZone\": to_time_zone,\n",
    "                        \"dstAmbiguity\": \"\"})\n",
    "r = requests.post(url, headers=headers, data=json_data) # POST 방법으로 요청해 응답받음\n",
    "ctz_json_to_dict = r.json()\n",
    "ctz_json_to_dict"
   ]
  },
  {
   "cell_type": "markdown",
   "metadata": {},
   "source": [
    "[8장: 350페이지]"
   ]
  },
  {
   "cell_type": "code",
   "execution_count": null,
   "metadata": {},
   "outputs": [],
   "source": [
    "import requests\n",
    "import json\n",
    "\n",
    "url = 'https://timeapi.io/api/Conversion/ConvertTimeZone' # 요청 주소\n",
    "\n",
    "from_time_zone = \"Asia/Seoul\"\n",
    "from_date_time = \"2022-10-03 10:03:00\"\n",
    "to_time_zone = \"GMT\" # UTC로 지정해도 결과는 동일\n",
    "\n",
    "dict_data = {\"fromTimeZone\": from_time_zone,\n",
    "              \"dateTime\": from_date_time,\n",
    "              \"toTimeZone\": to_time_zone,\n",
    "              \"dstAmbiguity\": \"\"}\n",
    "\n",
    "r = requests.post(url, json=dict_data) # POST 방법으로 요청해 응답받음\n",
    "ctz_json_to_dict = r.json()\n",
    "ctz_json_to_dict"
   ]
  },
  {
   "cell_type": "markdown",
   "metadata": {},
   "source": [
    "[8장: 351페이지]"
   ]
  },
  {
   "cell_type": "code",
   "execution_count": null,
   "metadata": {},
   "outputs": [],
   "source": [
    "dateTime = ctz_json_to_dict['conversionResult']['dateTime'] # 변환된 날짜와 시각 데이터를 추출\n",
    "to_date_time = f\"{dateTime.split('T')[0]} {dateTime.split('T')[1]}\"\n",
    "from_date_time, to_date_time #UTC+9(서울), UTC(영국)"
   ]
  },
  {
   "cell_type": "markdown",
   "metadata": {},
   "source": [
    "## 8.3 RSS 피드 데이터 가져오기"
   ]
  },
  {
   "cell_type": "markdown",
   "metadata": {},
   "source": [
    "### 8.3.1 RSS(Rich Site Summary) 문서의 구조 및 데이터 추출"
   ]
  },
  {
   "cell_type": "markdown",
   "metadata": {},
   "source": [
    "[8장: 353페이지]"
   ]
  },
  {
   "cell_type": "code",
   "execution_count": null,
   "metadata": {},
   "outputs": [],
   "source": [
    "rss_simple_document = \"\"\"<?xml version=\"1.0\" encoding=\"UTF-8\" ?>\n",
    "<rss version=\"2.0\">\n",
    "\n",
    "<channel>\n",
    "  <title>파이썬 웹 스크레이핑 홈페이지</title>\n",
    "  <link>https://www.python_web_scraping.com</link>\n",
    "  <description>파이썬 웹 스크레이핑 설명</description>\n",
    "  <pubDate>Sat, 30 Apr 2022 15:39:19 GMT</pubDate>\n",
    "  <lastBuildDate>Sat, 30 Apr 2022 17:50:21 GMT</lastBuildDate>\n",
    "  <item>\n",
    "    <title>1장. 웹 스크레이핑</title>\n",
    "    <link>https://www.python_web_scraping.com/web_scraping.html</link>\n",
    "    <description>웹 스크레이핑 기본에 관한 교육</description>\n",
    "    <pubDate>Sat, 30 Apr 2022 00:30:00 GMT</pubDate>\n",
    "  </item>\n",
    "  <item>\n",
    "    <title>2장. 웹 API 교육</title>\n",
    "    <link>https://www.python_web_scraping.com/web_api.html</link>\n",
    "    <description>웹 API에 관한 교육</description>\n",
    "    <pubDate>Sat, 30 Apr 2022 09:45:12 GMT</pubDate>\n",
    "  </item>\n",
    "</channel>\n",
    "\n",
    "</rss>\"\"\"\n",
    "\n",
    "# 여러줄 주석과 docString \"\"\"문서용 문자열\"\"\" 은 다르다.\n",
    "# 주석\n"
   ]
  },
  {
   "cell_type": "markdown",
   "metadata": {},
   "source": [
    "[8장: 355페이지] 피드파서 라는 파싱모듈을 사용하여 객체를 만들어 rss문서를 분해한다.\n",
    "- pip3 install feedparser 로 모듈 설치 후 실습을 진행한다. pip3 show feedparser 설치 확인\n",
    "- 피드파서로 생성한 객체의 channel태그는 feed객체를 사용하여 최상위 데이터를 파싱 한다."
   ]
  },
  {
   "cell_type": "code",
   "execution_count": null,
   "metadata": {},
   "outputs": [],
   "source": [
    "import feedparser\n",
    "\n",
    "d = feedparser.parse(rss_simple_document) # RSS 형식의 데이터를 파싱\n",
    "\n",
    "d.feed.title, d.feed.link, d.feed.description, d.feed.published, d.feed.updated"
   ]
  },
  {
   "cell_type": "code",
   "execution_count": null,
   "metadata": {},
   "outputs": [],
   "source": [
    "d[\"feed\"][\"title\"], d[\"feed\"][\"link\"], d[\"feed\"][\"description\"], d[\"feed\"][\"published\"], d[\"feed\"][\"updated\"]"
   ]
  },
  {
   "cell_type": "markdown",
   "metadata": {},
   "source": [
    "[8장: 356페이지]  channel태그 내부의 item태그는 entries객체를 인덱스번호로도 데이터를 파싱 할 수 있다."
   ]
  },
  {
   "cell_type": "code",
   "execution_count": null,
   "metadata": {},
   "outputs": [],
   "source": [
    "d.entries[0].title, d.entries[0].link, d.entries[0].description, d.entries[0].published"
   ]
  },
  {
   "cell_type": "code",
   "execution_count": null,
   "metadata": {},
   "outputs": [],
   "source": [
    "d.entries[1].title, d.entries[1].link, d.entries[1].description, d.entries[1].published"
   ]
  },
  {
   "cell_type": "markdown",
   "metadata": {},
   "source": [
    "### 8.3.2 구글 뉴스의 검색 기사 가져오기"
   ]
  },
  {
   "cell_type": "markdown",
   "metadata": {},
   "source": [
    "[8장: 358페이지]"
   ]
  },
  {
   "cell_type": "code",
   "execution_count": null,
   "metadata": {},
   "outputs": [],
   "source": [
    "import feedparser\n",
    "# URL은 스페이스(space)를 포함할 수 없기 때문에 %20 처럼 hex(16진수)값=%인코딩 으로 대체한다.(아래)\n",
    "query = \"인공지능%20머신러닝\"\n",
    "# RSS 서비스 주소\n",
    "rss_url = f'https://news.google.com/rss/search?q={query}&hl=ko&gl=KR&ceid=KR:ko'\n",
    "print(rss_url)\n",
    "rss_news = feedparser.parse(rss_url) # RSS 형식의 데이터를 파싱\n",
    "\n",
    "title = rss_news['feed']['title']\n",
    "updated = rss_news['feed']['updated']\n",
    "\n",
    "print(\"['구글 뉴스' RSS 피드 제목]\", title)\n",
    "print(\"['구글 뉴스' RSS 피드 제공 일시]\", updated)"
   ]
  },
  {
   "cell_type": "code",
   "execution_count": null,
   "metadata": {},
   "outputs": [],
   "source": [
    "from datetime import datetime, timedelta\n",
    "\n",
    "# RSS 피드 제공 일시를 한국 날짜와 시간으로 변경 하는 함수\n",
    "def get_local_datetime(rss_datetime):\n",
    "    # 전체 값 중에서 날짜와 시간만 문자열로 추출 : 문자열.split(sep='구분자', maxsplit=분할횟수) 리스트 배열 반환\n",
    "    date_time_str = ' '.join(rss_datetime.split()[1:5]) #split() 구분자가 없으면, 공백, 또는 엔터 기준으로 배열을 나눈다.\n",
    "    #print(date_time_str) #[1:5] 인덱스1부터 4까지 값 = 27 Feb 2023 02:05:51\n",
    "    # 문자열의 각 자리에 의미를 부여해 datetime 객체로 변경\n",
    "    date_time_GMT = datetime.strptime(date_time_str, '%d %b %Y %H:%M:%S') #문자열을 datatime 객체로 반환\n",
    "    \n",
    "    # GMT에 9시간을 더해 한국 시간대로 변경\n",
    "    date_time_KST = date_time_GMT + timedelta(hours=9) #timedelta객체로 산술/대소 연산자를 사용할 수 있다.\n",
    "    \n",
    "    return date_time_KST # 변경된 시간대의 날짜와 시각 반환"
   ]
  },
  {
   "cell_type": "markdown",
   "metadata": {},
   "source": [
    "[8장: 359페이지]"
   ]
  },
  {
   "cell_type": "code",
   "execution_count": null,
   "metadata": {},
   "outputs": [],
   "source": [
    "print(\"['구글 뉴스' RSS 피드 제공 일시]\", get_local_datetime(updated))"
   ]
  },
  {
   "cell_type": "code",
   "execution_count": null,
   "metadata": {},
   "outputs": [],
   "source": [
    "import feedparser\n",
    "import pandas as pd\n",
    "\n",
    "pd.reset_option('^display.', silent=True) # 판다스 출력 옵션 초기화\n",
    "#pd.set_option('display.max_colwidth', None)\n",
    "#pd.set_option('display.max_columns', 3)\n",
    "#pd.set_option('display.width', 1000)\n",
    "pd.set_option('colheader_justify', 'center') #컬럼 헤더를 가운데로 정렬: 작동안됨\n",
    "\n",
    "selected_columns = ['title', 'published', 'link'] # 관심있는 열만 선택\n",
    "\n",
    "df_gnews = pd.DataFrame(rss_news.entries) # 구글 뉴스 아이템을 판다스 DataFrame으로 변환\n",
    "\n",
    "df_gnews2 = df_gnews[selected_columns].copy()     # 선택한 열만 다른 DataFrame으로 복사\n",
    "\n",
    "# published 열의 작성 일시를 한국 시간대로 변경\n",
    "df_gnews2['published'] = df_gnews2['published'].apply(get_local_datetime) \n",
    "\n",
    "df_gnews2.columns = ['제목', '제공 일시', '링크'] # 열 이름 변경\n",
    "\n",
    "df_gnews2.head(3)                                 # 앞의 일부만 출력"
   ]
  },
  {
   "cell_type": "markdown",
   "metadata": {},
   "source": [
    "[8장: 360페이지]"
   ]
  },
  {
   "cell_type": "code",
   "execution_count": null,
   "metadata": {
    "scrolled": true
   },
   "outputs": [],
   "source": [
    "from IPython.display import HTML\n",
    "\n",
    "df = df_gnews2.head(3) # DataFrame 데이터의 일부 열과 행을 선택\n",
    "# df = df_gnews2       # DataFrame 데이터 전체를 선택\n",
    "\n",
    "# DataFrame 데이터를 HTML 코드로 변환 (justify='center' 옵션을 이용해 열 제목을 중간에 배치) 단, 주피터 노트북에선 작동되지 않는다.\n",
    "html_table = df.to_html(justify='center', escape=False, render_links=True) # DataFrame 데이터를 escape=False로 HTML 코드로 변환\n",
    "# escape인수를 이용하여문자 <, > 및 &를 HTML 안전 시퀀스로 변환합니다. 즉, <script> 태그가 있어도 자바스크립트를 실행하지 않는다.\n",
    "# 즉, 문자를 HTML 문법이 아닌 문자 그대로 출력합니다. 기본값은 True 입니다.\n",
    "\n",
    "HTML(html_table)  # HTML 코드의 내용을 웹 브라우저처럼 보여줌"
   ]
  },
  {
   "cell_type": "markdown",
   "metadata": {},
   "source": [
    "[8장: 361페이지] 외부 파일로 저장하면서 디자인 추가 하기"
   ]
  },
  {
   "cell_type": "code",
   "execution_count": null,
   "metadata": {},
   "outputs": [],
   "source": [
    "from datetime import datetime, timedelta\n",
    "\n",
    "google_news_datetime_KST = get_local_datetime(updated) # 한국 날짜와 시간으로 변경 \n",
    "\n",
    "df = df_gnews2.head() # DataFrame 데이터 앞의 일부\n",
    "# df = df_gnews2 # DataFrame 데이터 전체\n",
    "\n",
    "# DataFrame 데이터를 HTML 코드로 변환 (justify='center' 옵션을 이용해 열 제목을 중간에 배치) 주피터 노트북에선 작동되지 않는다.\n",
    "# 코드 하단에 google_news.html 로 저장된 파일 외부에 별도의 스타일 파일로 지정한다.\n",
    "\n",
    "html_table = df.to_html(justify='center', escape=False, render_links=True) \n",
    "css_code = \"\"\"\n",
    "table { \n",
    "    width: 100%;\n",
    "}\n",
    "th:first-child { width: 2px; }\n",
    "td {\n",
    "    overflow:hidden;\n",
    "    text-overflow: ellipsis;\n",
    "}\n",
    "\"\"\"\n",
    "with open('./data/df_style.css', 'w', encoding=\"utf-8\") as f:\n",
    "    f.write(css_code)\n",
    "    \n",
    "# HTML 기본 구조를 갖는 HTML 코드\n",
    "html_code = \"\"\"\n",
    "<!DOCTYPE html>\n",
    "<html>\n",
    "  <head>\n",
    "    <title>구글 뉴스 검색</title>\n",
    "    <link rel=\"stylesheet\" type=\"text/css\" href=\"./data/df_style.css\"/>\n",
    "  </head>\n",
    "  <body>\n",
    "    <h1>{0}</h1>\n",
    "    <h3> *검색 날짜 및 시각: {1}</h3>\n",
    "    {2}\n",
    "  </body>\n",
    "</html>    \n",
    "\"\"\".format(title, google_news_datetime_KST, html_table)\n",
    "\n",
    "file_name = \"./data/google_news.html\" # 생성할 HTML 파일 이름 지정\n",
    "#file_name = \"C:/myPyScraping/data/ch08/google_news.html\" # 생성할 HTML 파일 이름 지정\n",
    "with open(file_name, 'w', encoding=\"utf-8\") as f: #with 구문을 사용하면 f.close()처럼 객체를 메모리에서 삭제할 필요가 없다.\n",
    "    f.write(html_code)\n",
    "    \n",
    "# print(\"생성한 파일:\", file_name)\n",
    "# f = open(file_name, \"r\")\n",
    "# contents = f.read()\n",
    "# print(contents)\n",
    "# f.close()\n",
    "\n",
    "from IPython.display import HTML\n",
    "HTML(file_name)"
   ]
  },
  {
   "cell_type": "markdown",
   "metadata": {},
   "source": [
    "## 8.4 스포티파이를 이용한 노래 데이터 가져오기. 인증 토큰이 필요한 API_보안때문에 실습제외"
   ]
  },
  {
   "cell_type": "markdown",
   "metadata": {},
   "source": [
    "### 8.4.1 앱 만들고 액세스 토큰 생성"
   ]
  },
  {
   "cell_type": "markdown",
   "metadata": {},
   "source": [
    "#### 개발자 웹 사이트에서 앱 만들기"
   ]
  },
  {
   "cell_type": "markdown",
   "metadata": {},
   "source": [
    "#### 액세스 토큰 생성"
   ]
  },
  {
   "cell_type": "markdown",
   "metadata": {},
   "source": [
    "[8장: 368페이지]"
   ]
  },
  {
   "cell_type": "code",
   "execution_count": null,
   "metadata": {
    "scrolled": true
   },
   "outputs": [],
   "source": [
    "import requests\n",
    "\n",
    "## 자신의 Client ID와 Client Secret 입력\n",
    "CLIENT_ID = '본인 ID'\n",
    "CLIENT_SECRET = '본인 시크릿 코드'\n",
    "\n",
    "url = 'https://accounts.spotify.com/api/token'\n",
    "\n",
    "auth_data = {'grant_type': 'client_credentials',\n",
    "              'client_id': CLIENT_ID,\n",
    "              'client_secret': CLIENT_SECRET}\n",
    "\n",
    "r = requests.post(url, data=auth_data) # POST 방법으로 응답을 요청\n",
    "r_token = r.json() # 응답 객체의 JSON 형식의 데이터를 딕셔너리 타입으로 변환\n",
    "r_token"
   ]
  },
  {
   "cell_type": "code",
   "execution_count": null,
   "metadata": {},
   "outputs": [],
   "source": [
    "def get_spotify_access_token(client_id, client_secret):\n",
    "    \n",
    "    url = 'https://accounts.spotify.com/api/token'\n",
    "\n",
    "    auth_data = {'grant_type': 'client_credentials',\n",
    "                  'client_id': client_id,\n",
    "                  'client_secret': client_secret}\n",
    "        \n",
    "    r = requests.post(url, data=auth_data) # POST 방법으로 응답을 요청\n",
    "    r_token = r.json() # 응답 객체의 text 부분을 JSON 형식으로 변환\n",
    "    \n",
    "    return r_token['access_token']"
   ]
  },
  {
   "cell_type": "markdown",
   "metadata": {},
   "source": [
    "[8장: 369페이지]"
   ]
  },
  {
   "cell_type": "code",
   "execution_count": null,
   "metadata": {},
   "outputs": [],
   "source": [
    "ACCESS_TOKEN = get_spotify_access_token(CLIENT_ID, CLIENT_SECRET)\n",
    "ACCESS_TOKEN"
   ]
  },
  {
   "cell_type": "markdown",
   "metadata": {},
   "source": [
    "### 8.4.2 아티스트 API로 아티스트 관련 정보 가져오기"
   ]
  },
  {
   "cell_type": "markdown",
   "metadata": {},
   "source": [
    "#### 아티스트 정보 가져오기"
   ]
  },
  {
   "cell_type": "markdown",
   "metadata": {},
   "source": [
    "[8장: 374페이지]"
   ]
  },
  {
   "cell_type": "code",
   "execution_count": null,
   "metadata": {},
   "outputs": [],
   "source": [
    "import requests\n",
    "\n",
    "def get_spotify_artist_info(artist_id):\n",
    "    url = \"https://api.spotify.com/v1/artists/{id}\".format(id=artist_id)\n",
    "    ACCESS_TOKEN = get_spotify_access_token(CLIENT_ID, CLIENT_SECRET)\n",
    "    headers = {\"Authorization\": \"Bearer \" + ACCESS_TOKEN}\n",
    "\n",
    "    r = requests.get(url, headers=headers)\n",
    "\n",
    "    return r.json()"
   ]
  },
  {
   "cell_type": "markdown",
   "metadata": {},
   "source": [
    "[8장: 375페이지]"
   ]
  },
  {
   "cell_type": "code",
   "execution_count": null,
   "metadata": {
    "scrolled": true
   },
   "outputs": [],
   "source": [
    "artist_id = \"3HqSLMAZ3g3d5poNaI7GOU\" # 아이유의 아티스트 ID\n",
    "artist_data = get_spotify_artist_info(artist_id)\n",
    "\n",
    "print(\"[아티스트 관련 정보]\")\n",
    "print(\"- 이름:\", artist_data['name'])\n",
    "print(\"- ID:\", artist_data['id'])\n",
    "print(\"- 장르:\", artist_data['genres'])\n",
    "print(\"- 인기도:\", artist_data['popularity'])"
   ]
  },
  {
   "cell_type": "code",
   "execution_count": null,
   "metadata": {
    "scrolled": true
   },
   "outputs": [],
   "source": [
    "artist_id = \"3Nrfpe0tUJi4K4DXYWgMUX\" # 방탄소년단(BTS)의 아티스트 ID\n",
    "artist_data = get_spotify_artist_info(artist_id)\n",
    "\n",
    "print(\"[아티스트 관련 정보]\")\n",
    "print(\"- 이름:\", artist_data['name'])\n",
    "print(\"- ID:\", artist_data['id'])\n",
    "print(\"- 장르:\", artist_data['genres'])\n",
    "print(\"- 인기도:\", artist_data['popularity'])"
   ]
  },
  {
   "cell_type": "markdown",
   "metadata": {},
   "source": [
    "#### 아티스트의 인기곡 정보 가져오기"
   ]
  },
  {
   "cell_type": "markdown",
   "metadata": {},
   "source": [
    "[8장: 379페이지]"
   ]
  },
  {
   "cell_type": "code",
   "execution_count": null,
   "metadata": {
    "scrolled": true
   },
   "outputs": [],
   "source": [
    "url = \"https://api.spotify.com/v1/markets\"\n",
    "\n",
    "ACCESS_TOKEN = get_spotify_access_token(CLIENT_ID, CLIENT_SECRET)\n",
    "headers = {\"Authorization\": \"Bearer \" + ACCESS_TOKEN}\n",
    "\n",
    "r = requests.get(url, headers=headers)\n",
    "r.text[:50] # 앞의 일부만 표시\n",
    "# r.text     # 전체 표시"
   ]
  },
  {
   "cell_type": "code",
   "execution_count": null,
   "metadata": {},
   "outputs": [],
   "source": [
    "def get_spotify_artist_top_tracks(artist_id, country_code):\n",
    "\n",
    "    url = \"https://api.spotify.com/v1/artists/{id}/top-tracks\".format(id=artist_id)\n",
    "    ACCESS_TOKEN = get_spotify_access_token(CLIENT_ID, CLIENT_SECRET)\n",
    "    headers = {\"Authorization\": \"Bearer \" + ACCESS_TOKEN}\n",
    "    parameters = {\"market\": country_code}\n",
    "    r = requests.get(url, params=parameters, headers=headers)\n",
    "\n",
    "    return r.json()"
   ]
  },
  {
   "cell_type": "markdown",
   "metadata": {},
   "source": [
    "[8장: 380페이지]"
   ]
  },
  {
   "cell_type": "code",
   "execution_count": null,
   "metadata": {},
   "outputs": [],
   "source": [
    "import pandas as pd\n",
    "\n",
    "artist_id = \"3HqSLMAZ3g3d5poNaI7GOU\" # 아이유의 아티스트 ID\n",
    "country_code = \"KR\" # 대한민국의 국가 코드\n",
    "\n",
    "# 인기곡 정보 JSON 객체 받기\n",
    "artist_top_tracks_data = get_spotify_artist_top_tracks(artist_id, country_code)\n",
    "# 인기곡 정보 JSON 데이터에서 곡 정보 객체 리스트 추출\n",
    "top_tracks = artist_top_tracks_data['tracks']\n",
    "\n",
    "[type(top_tracks), len(top_tracks)] # top_tracks의 타입과 개수 출력"
   ]
  },
  {
   "cell_type": "code",
   "execution_count": null,
   "metadata": {},
   "outputs": [],
   "source": [
    "top_tracks[0].keys() # 리스트의 첫 번째 요소로 있는 딕셔너리에서 키만 추출"
   ]
  },
  {
   "cell_type": "code",
   "execution_count": null,
   "metadata": {},
   "outputs": [],
   "source": [
    "# 리스트를 DataFrame 데이터로 변환\n",
    "df_artist_top_track = pd.DataFrame(top_tracks)\n",
    "# DataFrame 데이터에서 열 선택\n",
    "df_artist_top_track2 = df_artist_top_track[['artists', 'name', 'duration_ms', 'id', 'popularity']]\n",
    "\n",
    "df_artist_top_track2.head()"
   ]
  },
  {
   "cell_type": "markdown",
   "metadata": {},
   "source": [
    "[8장: 381페이지]"
   ]
  },
  {
   "cell_type": "code",
   "execution_count": null,
   "metadata": {},
   "outputs": [],
   "source": [
    "def get_artists(artists_info):\n",
    "    artists_name = []\n",
    "    for artist_info in artists_info:\n",
    "        name = artist_info['name'] # 아티스트 정보 중 이름만 추출\n",
    "        artists_name.append(name)  # 아티스트 이름을 리스트로 묶음\n",
    "    \n",
    "    artists_name_str = \", \".join(artists_name) # 리스트로 된 아티스트 이름을 문자열로 변환 \n",
    "    return artists_name_str"
   ]
  },
  {
   "cell_type": "code",
   "execution_count": null,
   "metadata": {
    "scrolled": true
   },
   "outputs": [],
   "source": [
    "df_artist_top_track3 = df_artist_top_track2.copy() # DataFrame 데이터 복사\n",
    "\n",
    "# get_artists() 함수를 artists 열의 각 항목에 적용\n",
    "df_artist_top_track3['artists'] = df_artist_top_track3['artists'].apply(get_artists)\n",
    "df_artist_top_track3.head()"
   ]
  },
  {
   "cell_type": "code",
   "execution_count": null,
   "metadata": {},
   "outputs": [],
   "source": [
    "def convert_msec(msec):\n",
    "    milliseconds = (msec%1000)\n",
    "    seconds = (msec/1000) % 60\n",
    "    seconds = int(seconds)\n",
    "    minutes = (msec/(1000*60)) % 60\n",
    "    minutes = int(minutes)\n",
    "    hours = (msec/(1000*60*60)) % 60\n",
    "    hours = int(hours)\n",
    "    \n",
    "    hms_str = \"{0:02d}:{1:02d}:{2:02d}.{3:03d}\".format(hours, minutes, seconds, milliseconds)\n",
    "    return hms_str"
   ]
  },
  {
   "cell_type": "markdown",
   "metadata": {},
   "source": [
    "[8장: 383페이지]"
   ]
  },
  {
   "cell_type": "code",
   "execution_count": null,
   "metadata": {},
   "outputs": [],
   "source": [
    "df_IU_top_track = df_artist_top_track3.copy() # DataFrame 데이터 복사\n",
    "\n",
    "# convert_msec() 함수를 duration_ms 열의 각 항목에 적용\n",
    "df_IU_top_track['duration_ms'] = df_IU_top_track['duration_ms'].apply(convert_msec) \n",
    "\n",
    "# duration_ms 열 이름을 duration로 변경\n",
    "df_IU_top_track.rename(columns={'duration_ms':'duration'}, inplace=True)\n",
    "df_IU_top_track.head()"
   ]
  },
  {
   "cell_type": "code",
   "execution_count": null,
   "metadata": {},
   "outputs": [],
   "source": [
    "df_IU_top_track.columns = [\"아티스트\", \"곡 제목\", \"곡의 길이\", \"곡 ID\", \"인기도\"] # 열 제목을 변경\n",
    "df_IU_top_track.head()"
   ]
  },
  {
   "cell_type": "markdown",
   "metadata": {},
   "source": [
    "[8장: 384페이지]"
   ]
  },
  {
   "cell_type": "code",
   "execution_count": null,
   "metadata": {},
   "outputs": [],
   "source": [
    "import pandas as pd\n",
    "\n",
    "def get_artist_top_track(artist_id, country_code):\n",
    "    # 인기곡 정보 JSON 객체 받기\n",
    "    artist_top_tracks_data = get_spotify_artist_top_tracks(artist_id, country_code)\n",
    "    # 인기곡 정보 JSON 데이터에서 곡 정보 객체 리스트 추출\n",
    "    top_tracks = artist_top_tracks_data['tracks']\n",
    "\n",
    "    # 리스트를 DataFrame 데이터로 변환\n",
    "    df_artist_top_track = pd.DataFrame(top_tracks)\n",
    "    # DataFrame 데이터에서 열 선택\n",
    "    df_artist_top_track2 = df_artist_top_track[['artists','name', 'duration_ms', 'id', 'popularity']]\n",
    "    \n",
    "    df_artist_top_track3 = df_artist_top_track2.copy() # DataFrame 데이터 복사\n",
    "    # get_artists() 함수를 artists 열의 각 항목에 적용\n",
    "    df_artist_top_track3['artists'] = df_artist_top_track3['artists'].apply(get_artists)\n",
    "\n",
    "    df_artist_top_track4 = df_artist_top_track3.copy() # DataFrame 데이터 복사\n",
    "    # convert_msec() 함수를 duration_ms 열의 각 항목에 적용\n",
    "    df_artist_top_track4['duration_ms'] = df_artist_top_track4['duration_ms'].apply(convert_msec)\n",
    "    \n",
    "    # duration_ms 열 이름을 duration로 변경\n",
    "    df_artist_top_track4.rename(columns={'duration_ms':'duration'}, inplace=True)\n",
    "\n",
    "    # 열 제목을 변경\n",
    "    df_artist_top_track4.columns = [\"아티스트\", \"곡 제목\", \"곡의 길이\", \"곡 ID\", \"인기도\"]\n",
    "    \n",
    "    return df_artist_top_track4"
   ]
  },
  {
   "cell_type": "markdown",
   "metadata": {},
   "source": [
    "[8장: 385페이지]"
   ]
  },
  {
   "cell_type": "code",
   "execution_count": null,
   "metadata": {},
   "outputs": [],
   "source": [
    "artist_id = \"3Nrfpe0tUJi4K4DXYWgMUX\" # 방탄소년단(BTS)의 아티스트 ID  \n",
    "country_code = \"US\" # 미국의 국가 코드\n",
    "\n",
    "df_BTS_top_track = get_artist_top_track(artist_id, country_code)\n",
    "df_BTS_top_track.head()"
   ]
  },
  {
   "cell_type": "markdown",
   "metadata": {},
   "source": [
    "#### 아티스트의 앨범 정보 가져오기"
   ]
  },
  {
   "cell_type": "markdown",
   "metadata": {},
   "source": [
    "[8장: 387페이지]"
   ]
  },
  {
   "cell_type": "code",
   "execution_count": null,
   "metadata": {},
   "outputs": [],
   "source": [
    "def get_spotify_artist_albums_tracks(artist_id, include_groups=None):\n",
    "\n",
    "    url = \"https://api.spotify.com/v1/artists/{id}/albums\".format(id=artist_id)\n",
    "    ACCESS_TOKEN = get_spotify_access_token(CLIENT_ID, CLIENT_SECRET)\n",
    "\n",
    "    parameters = {\"include_groups\": include_groups}\n",
    "    headers = {\"Authorization\": \"Bearer \" + ACCESS_TOKEN}\n",
    "      \n",
    "    if(include_groups==None): # 앨범 타입을 지정하지 않을 경우 params 인수 없이 호출\n",
    "        r = requests.get(url, headers=headers)\n",
    "    else:                     # 앨범 타입을 지정할 경우 params 인수 호출\n",
    "        r = requests.get(url, params=parameters, headers=headers)\n",
    "\n",
    "    return r.json()"
   ]
  },
  {
   "cell_type": "markdown",
   "metadata": {},
   "source": [
    "[8장: 388페이지]"
   ]
  },
  {
   "cell_type": "code",
   "execution_count": null,
   "metadata": {},
   "outputs": [],
   "source": [
    "import pandas as pd\n",
    "\n",
    "artist_id = \"3HqSLMAZ3g3d5poNaI7GOU\" # 아이유의 아티스트 ID\n",
    "\n",
    "# album, single, appears_on, compilation\n",
    "include_groups = \"album,single\"\n",
    "\n",
    "artist_albums_data = get_spotify_artist_albums_tracks(artist_id, include_groups)\n",
    "# artist_albums_data = get_sptoify_artist_albums_tracks(artist_id)\n",
    "artist_albums = artist_albums_data['items']\n",
    "\n",
    "albums_info = []\n",
    "for album in artist_albums:\n",
    "    albums_name_release_date = {\"name\":album['name'],\n",
    "                                \"album_type\":album['album_type'],\n",
    "                                \"release_date\":album['release_date'],\n",
    "                                \"album_id\":album['id'],}\n",
    "    albums_info.append(albums_name_release_date)\n",
    "\n",
    "df_albums = pd.DataFrame(albums_info)\n",
    "df_albums[0:10]"
   ]
  },
  {
   "cell_type": "markdown",
   "metadata": {},
   "source": [
    "[8장: 389페이지]"
   ]
  },
  {
   "cell_type": "code",
   "execution_count": null,
   "metadata": {
    "scrolled": false
   },
   "outputs": [],
   "source": [
    "df_albums[df_albums['album_type']=='album']"
   ]
  },
  {
   "cell_type": "code",
   "execution_count": null,
   "metadata": {},
   "outputs": [],
   "source": [
    "import pandas as pd\n",
    "\n",
    "def get_artist_albums(artist_id, include_groups=None):\n",
    "    \n",
    "    artist_albums_data = get_spotify_artist_albums_tracks(artist_id, include_groups)\n",
    "    artist_albums = artist_albums_data['items']\n",
    "\n",
    "    albums_info = []\n",
    "    for album in artist_albums:\n",
    "        albums_name_release_date = {\"name\":album['name'],\n",
    "                                    \"album_type\":album['album_type'],\n",
    "                                    \"release_date\":album['release_date'],\n",
    "                                    \"album_id\":album['id'],}\n",
    "        albums_info.append(albums_name_release_date)\n",
    "\n",
    "    df_albums = pd.DataFrame(albums_info)\n",
    "    return df_albums"
   ]
  },
  {
   "cell_type": "markdown",
   "metadata": {},
   "source": [
    "[8장: 390페이지]"
   ]
  },
  {
   "cell_type": "code",
   "execution_count": null,
   "metadata": {
    "scrolled": false
   },
   "outputs": [],
   "source": [
    "artist_id = \"6OwKE9Ez6ALxpTaKcT5ayv\" # 악동뮤지션(악뮤)의 아티스트 ID\n",
    "\n",
    "df_AKMU_albums = get_artist_albums(artist_id)\n",
    "df_AKMU_albums.head()"
   ]
  },
  {
   "cell_type": "markdown",
   "metadata": {},
   "source": [
    "### 8.4.3 트랙 API로 곡 관련 정보 가져오기"
   ]
  },
  {
   "cell_type": "markdown",
   "metadata": {},
   "source": [
    "#### 트랙(곡) 정보 가져오기"
   ]
  },
  {
   "cell_type": "markdown",
   "metadata": {},
   "source": [
    "[8장: 393페이지]"
   ]
  },
  {
   "cell_type": "code",
   "execution_count": null,
   "metadata": {},
   "outputs": [],
   "source": [
    "import requests\n",
    "\n",
    "def get_spotify_track_info(track_id):\n",
    "    url = \"https://api.spotify.com/v1/tracks/{id}\".format(id=track_id)\n",
    "    ACCESS_TOKEN = get_spotify_access_token(CLIENT_ID, CLIENT_SECRET)\n",
    "\n",
    "    headers = {\"Authorization\": \"Bearer \" + ACCESS_TOKEN} # 헤더 생성\n",
    "    r = requests.get(url, headers=headers) # GET 방법으로 요청해 응답받음\n",
    "\n",
    "    return r.json()"
   ]
  },
  {
   "cell_type": "code",
   "execution_count": null,
   "metadata": {
    "scrolled": true
   },
   "outputs": [],
   "source": [
    "track_id = \"2bgTY4UwhfBYhGT4HUYStN\" # 트랙 ID(방탄소년단 Butter)\n",
    "track_data = get_spotify_track_info(track_id)\n",
    "\n",
    "print(\"[트랙(곡) 정보]\")\n",
    "print(\"- 아티스트:\", get_artists(track_data['artists'])) # get_artists() 함수 이용\n",
    "print(\"- 트랙(곡) 제목:\", track_data['name'])\n",
    "print(\"- 발표일:\", track_data['album']['release_date'])\n",
    "print(\"- 트랙(곡) 길이:\", convert_msec(track_data['duration_ms'])) # convert_msec() 함수 이용\n",
    "print(\"- 트랙 ID:\", track_data['id'])\n",
    "print(\"- 인기도:\", track_data['popularity'])"
   ]
  },
  {
   "cell_type": "markdown",
   "metadata": {},
   "source": [
    "#### 트랙(곡)의 오디오 특징 정보 가져오기"
   ]
  },
  {
   "cell_type": "markdown",
   "metadata": {},
   "source": [
    "[8장: 396페이지]"
   ]
  },
  {
   "cell_type": "code",
   "execution_count": null,
   "metadata": {},
   "outputs": [],
   "source": [
    "import requests\n",
    "\n",
    "def get_spotify_audio_features(track_id):\n",
    "    url = \"https://api.spotify.com/v1/audio-features/{id}\".format(id=track_id)\n",
    "    ACCESS_TOKEN = get_spotify_access_token(CLIENT_ID, CLIENT_SECRET)\n",
    "\n",
    "    headers = {\"Authorization\": \"Bearer \" + ACCESS_TOKEN} # 헤더 생성\n",
    "    r = requests.get(url, headers=headers) # GET 방법으로 요청해 응답받음\n",
    "\n",
    "    return r.json()"
   ]
  },
  {
   "cell_type": "code",
   "execution_count": null,
   "metadata": {
    "scrolled": true
   },
   "outputs": [],
   "source": [
    "track_id = \"2bgTY4UwhfBYhGT4HUYStN\" # 트랙 ID(방탄소년단 Butter)\n",
    "audio_features_data = get_spotify_audio_features(track_id)\n",
    "audio_features_data"
   ]
  },
  {
   "cell_type": "markdown",
   "metadata": {},
   "source": [
    "[8장: 397페이지]"
   ]
  },
  {
   "cell_type": "code",
   "execution_count": null,
   "metadata": {},
   "outputs": [],
   "source": [
    "import pandas as pd \n",
    "\n",
    "track_IDs = [\"2bgTY4UwhfBYhGT4HUYStN\", # 방탄소년단 Butter\n",
    "             \"3P3UA61WRQqwCXaoFOTENd\", # 아이유 밤편지\n",
    "             \"5FKdWT5A7vDTEnPiHrruFY\", # 김동률 출발\n",
    "             \"4ribiWWnI451QMRdOgByIP\", # 이무진 비와 당신\n",
    "             \"1s6GWG2BrEWLE8sbd1lXME\", # 악뮤 오랜 날 오랜 밤\n",
    "             \"4t2FIqZJORKZGSKg30SShr\", # 악뮤(with IU) 낙하\n",
    "             \"1iIhGHzzrzqQfuNkFI2qAn\", # 지코 아무 노래\n",
    "             \"4XaG9IpCXklOcuau1sIrUX\", # 퀸(Queen) We Are The Champions\n",
    "             \"7vd1j4IDTU0koES9M8dvBQ\", # 이루마 Kiss The Rain\n",
    "             \"3L1Ssz5HaOV3ZG9eJnV8UY\"] # 피아노 캐논 변주곡\n",
    " \n",
    "tracks_audio_features = [] # 여러 곡의 오디오 특징 리스트\n",
    "\n",
    "for track_ID in track_IDs:\n",
    "    # 아티스트와 트랙 이름 가져오기\n",
    "    track_info = get_spotify_track_info(track_ID)\n",
    "    \n",
    "    # 트랙의 오디오 특징을 가져오기\n",
    "    audio_features = get_spotify_audio_features(track_ID)\n",
    "    \n",
    "    # 아티스트와 트랙 정보와 오디오 특징 통합\n",
    "    track_audio_features = {\"artists\":get_artists(track_info['artists']), \n",
    "                            \"title\":track_info['name'], \n",
    "                            \"danceability\":audio_features['danceability'],\n",
    "                            \"energy\":audio_features['energy'],\n",
    "                            \"valence\":audio_features['valence'],\n",
    "                            \"acousticness\":audio_features['acousticness'],\n",
    "                            \"speechiness\":audio_features['speechiness'],\n",
    "                            \"instrumentalness\":audio_features['instrumentalness'],\n",
    "                            \"liveness\":audio_features['liveness']}\n",
    "    \n",
    "    # 트랙의 오디오 특징 정보를 리스트에 담기\n",
    "    tracks_audio_features.append(track_audio_features)\n",
    "    \n",
    "# DataFrame 데이터로 변환\n",
    "df_tracks_audio_features = pd.DataFrame(tracks_audio_features)\n",
    "df_tracks_audio_features"
   ]
  },
  {
   "cell_type": "markdown",
   "metadata": {},
   "source": [
    "[8장: 399페이지]"
   ]
  },
  {
   "cell_type": "code",
   "execution_count": null,
   "metadata": {},
   "outputs": [],
   "source": [
    "import matplotlib as mpl\n",
    "\n",
    "mpl.rcParams['font.family'] = 'Malgun Gothic' # '맑은 고딕'으로 폰트 설정 \n",
    "mpl.rcParams['axes.unicode_minus'] = False   # 마이너스(-) 폰트 깨짐 방지"
   ]
  },
  {
   "cell_type": "markdown",
   "metadata": {},
   "source": [
    "[8장: 400페이지]"
   ]
  },
  {
   "cell_type": "code",
   "execution_count": null,
   "metadata": {},
   "outputs": [],
   "source": [
    "%matplotlib inline"
   ]
  },
  {
   "cell_type": "markdown",
   "metadata": {},
   "source": [
    "이제 오디오 특징 중 몇 가지를 선택해 막대 그래프로 비교해 보겠습니다."
   ]
  },
  {
   "cell_type": "code",
   "execution_count": null,
   "metadata": {},
   "outputs": [],
   "source": [
    "import matplotlib.pyplot as plt\n",
    "\n",
    "selected_columns = [\"danceability\", \"energy\", \"valence\", \"acousticness\",\n",
    "                    \"speechiness\", \"instrumentalness\", \"liveness\"]\n",
    "df_tracks_audio_features2 = df_tracks_audio_features[selected_columns]\n",
    "\n",
    "ax = df_tracks_audio_features2.T.plot.bar(figsize=(15,4))\n",
    "ax.legend(df_tracks_audio_features[\"title\"],  bbox_to_anchor=(0.55, 0.2))\n",
    "\n",
    "# x축 라벨, y축 라벨, title 지정 \n",
    "ax.set_xlabel('오디오 특징', fontsize = 15)\n",
    "ax.set_ylabel('값', fontsize = 15)\n",
    "ax.set_title('트랙별 오디오 특징 비교', fontsize = 18)\n",
    "\n",
    "plt.show()"
   ]
  },
  {
   "cell_type": "markdown",
   "metadata": {},
   "source": [
    "### 8.4.4  앨범 API로 앨범 관련 정보 가져오기"
   ]
  },
  {
   "cell_type": "markdown",
   "metadata": {},
   "source": [
    "#### 앨범 정보 가져오기 "
   ]
  },
  {
   "cell_type": "markdown",
   "metadata": {},
   "source": [
    "[8장: 404페이지]"
   ]
  },
  {
   "cell_type": "code",
   "execution_count": null,
   "metadata": {},
   "outputs": [],
   "source": [
    "def get_spotify_album_info(album_id):\n",
    "    url = \"https://api.spotify.com/v1/albums/{id}\".format(id=album_id)\n",
    "    ACCESS_TOKEN = get_spotify_access_token(CLIENT_ID, CLIENT_SECRET)\n",
    "\n",
    "    headers = {\"Authorization\": \"Bearer \" + ACCESS_TOKEN} # 헤더 생성\n",
    "\n",
    "    r = requests.get(url, headers=headers) # GET 방법으로 응답을 요청\n",
    "\n",
    "    return r.json()"
   ]
  },
  {
   "cell_type": "code",
   "execution_count": null,
   "metadata": {},
   "outputs": [],
   "source": [
    "album_id = \"01dPJcwyht77brL4JQiR8R\" # 앨범 ID(아이유 IU 5th Album 'LILAC' 앨범)\n",
    "\n",
    "album_data = get_spotify_album_info(album_id)\n",
    "album_data.keys()"
   ]
  },
  {
   "cell_type": "markdown",
   "metadata": {},
   "source": [
    "[8장: 405페이지]"
   ]
  },
  {
   "cell_type": "code",
   "execution_count": null,
   "metadata": {
    "scrolled": true
   },
   "outputs": [],
   "source": [
    "print(\"[앨범 정보]\")\n",
    "print(\"- 아티스트:\", get_artists(album_data['artists'])) # get_artists() 함수 이용\n",
    "print(\"- 앨범 제목:\", album_data['name'])\n",
    "print(\"- 앨범 발표일:\", album_data['release_date'])\n",
    "print(\"- 앨범의 곡 개수:\", album_data['total_tracks']) \n",
    "print(\"- 앨범 ID:\", album_data['id'])\n",
    "print(\"- 앨범 인기도:\", album_data['popularity'])\n",
    "print(\"- 앨범 Label:\", album_data['label'])"
   ]
  },
  {
   "cell_type": "markdown",
   "metadata": {},
   "source": [
    "#### 앨범의 트랙(곡) 정보 가져오기 "
   ]
  },
  {
   "cell_type": "markdown",
   "metadata": {},
   "source": [
    "[8장: 407페이지]"
   ]
  },
  {
   "cell_type": "code",
   "execution_count": null,
   "metadata": {},
   "outputs": [],
   "source": [
    "def get_spotify_album_tracks(album_id):\n",
    "    url = \"https://api.spotify.com/v1/albums/{id}/tracks\".format(id=album_id)\n",
    "    ACCESS_TOKEN = get_spotify_access_token(CLIENT_ID, CLIENT_SECRET)\n",
    "\n",
    "    headers = {\"Authorization\": \"Bearer \" + ACCESS_TOKEN} # 헤더 생성\n",
    "\n",
    "    r = requests.get(url, headers=headers) # GET 방법으로 요청해 응답받음\n",
    "\n",
    "    return r.json()"
   ]
  },
  {
   "cell_type": "code",
   "execution_count": null,
   "metadata": {},
   "outputs": [],
   "source": [
    "album_id = \"01dPJcwyht77brL4JQiR8R\" # 앨범 ID(아이유 IU 5th Album 'LILAC' 앨범)\n",
    "\n",
    "album_tracks_data = get_spotify_album_tracks(album_id)\n",
    "\n",
    "print(\"[앨범 트랙 정보]\")\n",
    "print(\"- 앨범 트랙 API URL:\", album_tracks_data['href'])\n",
    "print(\"- 설정한 트랙 수 :\", album_tracks_data['limit']) \n",
    "print(\"- 설정한 트랙 오프셋:\", album_tracks_data['offset']) \n",
    "print(\"- 앨범의 곡 개수:\", album_tracks_data['total']) \n",
    "print(\"- 다음 트랙 API URL:\", album_tracks_data['next']) "
   ]
  },
  {
   "cell_type": "markdown",
   "metadata": {},
   "source": [
    "[8장: 408페이지]"
   ]
  },
  {
   "cell_type": "code",
   "execution_count": null,
   "metadata": {},
   "outputs": [],
   "source": [
    "import pandas as pd\n",
    "\n",
    "def get_album_track(album_id):    \n",
    "    album_tracks_data = get_spotify_album_tracks(album_id)\n",
    "    album_tracks = album_tracks_data['items']\n",
    "\n",
    "    df_album_tracks = pd.DataFrame(album_tracks) # DataFrame 데이터로 변환\n",
    "    \n",
    "    df_album_tracks2 = df_album_tracks[['artists', 'name', 'duration_ms', 'id']] # DataFrame 데이터에서 열 선택\n",
    "    \n",
    "    df_album_tracks3 = df_album_tracks2.copy() # DataFrame 데이터 복사\n",
    "    df_album_tracks3['artists'] = df_album_tracks3['artists'].apply(get_artists) # 함수를 artists 열의 각 항목에 적용\n",
    "\n",
    "    df_album_tracks4 = df_album_tracks3.copy() # DataFrame 데이터 복사\n",
    "    df_album_tracks4['duration_ms'] = df_album_tracks4['duration_ms'].apply(convert_msec) # 함수를 artists 열의 각 항목에 적용\n",
    "    df_album_tracks4.rename(columns = {'duration_ms' : 'duration'}, inplace = True) # duration_ms 열 이름을 duration로 변경\n",
    "\n",
    "    df_album_tracks4.columns = [\"아티스트\", \"곡 제목\", \"곡의 길이\", \"곡 ID\"] # 열 제목을 변경\n",
    "    \n",
    "    return df_album_tracks4"
   ]
  },
  {
   "cell_type": "code",
   "execution_count": null,
   "metadata": {},
   "outputs": [],
   "source": [
    "album_id = \"01dPJcwyht77brL4JQiR8R\" # 앨범 ID(아이유 IU 5th Album 'LILAC' 앨범)\n",
    "\n",
    "df_IU_album_tracks = get_album_track(album_id)\n",
    "df_IU_album_tracks.head()"
   ]
  },
  {
   "cell_type": "markdown",
   "metadata": {},
   "source": [
    "## 8.5 야후 파이낸스에서 주식 데이터 가져오기. "
   ]
  },
  {
   "cell_type": "markdown",
   "metadata": {},
   "source": [
    "### 8.5.1 설치 및 기본 사용법. yfinance는 야후에서 공식적으로 지원하는 패키지는 아니다. 구름 ide 노트북또는 브라우저 노트북 에서 정상 사용\n",
    "- pip3 install yfinance\n",
    "- 설치 확인 : pip3 show yfinance"
   ]
  },
  {
   "cell_type": "markdown",
   "metadata": {},
   "source": [
    "### 8.5.2 미국 주식 데이터 가져오기"
   ]
  },
  {
   "cell_type": "markdown",
   "metadata": {},
   "source": [
    "[8장: 411페이지] yfinance 모듈을 사용한다.\n",
    "- yfinance 함수를 사용해서 야후 파이낸스(Yahoo Finance)의 차트(Chart)의 주가 정보를 가져올 수 있다. (시작가, 종가, etc)\n",
    "- yfinance 는 판다스(Pandas)의 Dataframe 함수를 지원합니다. Pandas는 테이블 형식으로 데이터를 정리하여 여러 처리를 쉽게 해주는 모듈이다.\n",
    "- yfinance의 return으로 나온 결과 값은 dataframe 형태이므로 데이터 분석을 할 경우 dataframe의 함수들을 사용하여 쉽게 파싱 할 수 있다."
   ]
  },
  {
   "cell_type": "code",
   "execution_count": 22,
   "metadata": {},
   "outputs": [
    {
     "data": {
      "text/html": [
       "<div>\n",
       "<style scoped>\n",
       "    .dataframe tbody tr th:only-of-type {\n",
       "        vertical-align: middle;\n",
       "    }\n",
       "\n",
       "    .dataframe tbody tr th {\n",
       "        vertical-align: top;\n",
       "    }\n",
       "\n",
       "    .dataframe thead th {\n",
       "        text-align: right;\n",
       "    }\n",
       "</style>\n",
       "<table border=\"1\" class=\"dataframe\">\n",
       "  <thead>\n",
       "    <tr style=\"text-align: right;\">\n",
       "      <th></th>\n",
       "      <th>Open</th>\n",
       "      <th>High</th>\n",
       "      <th>Low</th>\n",
       "      <th>Close</th>\n",
       "      <th>Volume</th>\n",
       "      <th>Dividends</th>\n",
       "      <th>Stock Splits</th>\n",
       "    </tr>\n",
       "    <tr>\n",
       "      <th>Date</th>\n",
       "      <th></th>\n",
       "      <th></th>\n",
       "      <th></th>\n",
       "      <th></th>\n",
       "      <th></th>\n",
       "      <th></th>\n",
       "      <th></th>\n",
       "    </tr>\n",
       "  </thead>\n",
       "  <tbody>\n",
       "    <tr>\n",
       "      <th>2023-02-24 00:00:00-05:00</th>\n",
       "      <td>196.330002</td>\n",
       "      <td>197.669998</td>\n",
       "      <td>192.800003</td>\n",
       "      <td>196.880005</td>\n",
       "      <td>142228100</td>\n",
       "      <td>0.0</td>\n",
       "      <td>0.0</td>\n",
       "    </tr>\n",
       "    <tr>\n",
       "      <th>2023-02-27 00:00:00-05:00</th>\n",
       "      <td>202.029999</td>\n",
       "      <td>209.419998</td>\n",
       "      <td>201.259995</td>\n",
       "      <td>207.630005</td>\n",
       "      <td>161028300</td>\n",
       "      <td>0.0</td>\n",
       "      <td>0.0</td>\n",
       "    </tr>\n",
       "    <tr>\n",
       "      <th>2023-02-28 00:00:00-05:00</th>\n",
       "      <td>210.589996</td>\n",
       "      <td>211.229996</td>\n",
       "      <td>203.750000</td>\n",
       "      <td>205.710007</td>\n",
       "      <td>153144900</td>\n",
       "      <td>0.0</td>\n",
       "      <td>0.0</td>\n",
       "    </tr>\n",
       "    <tr>\n",
       "      <th>2023-03-01 00:00:00-05:00</th>\n",
       "      <td>206.210007</td>\n",
       "      <td>207.199997</td>\n",
       "      <td>198.520004</td>\n",
       "      <td>202.770004</td>\n",
       "      <td>156852800</td>\n",
       "      <td>0.0</td>\n",
       "      <td>0.0</td>\n",
       "    </tr>\n",
       "    <tr>\n",
       "      <th>2023-03-02 00:00:00-05:00</th>\n",
       "      <td>186.740005</td>\n",
       "      <td>193.750000</td>\n",
       "      <td>186.009995</td>\n",
       "      <td>190.899994</td>\n",
       "      <td>181500700</td>\n",
       "      <td>0.0</td>\n",
       "      <td>0.0</td>\n",
       "    </tr>\n",
       "  </tbody>\n",
       "</table>\n",
       "</div>"
      ],
      "text/plain": [
       "                                 Open        High         Low       Close  \\\n",
       "Date                                                                        \n",
       "2023-02-24 00:00:00-05:00  196.330002  197.669998  192.800003  196.880005   \n",
       "2023-02-27 00:00:00-05:00  202.029999  209.419998  201.259995  207.630005   \n",
       "2023-02-28 00:00:00-05:00  210.589996  211.229996  203.750000  205.710007   \n",
       "2023-03-01 00:00:00-05:00  206.210007  207.199997  198.520004  202.770004   \n",
       "2023-03-02 00:00:00-05:00  186.740005  193.750000  186.009995  190.899994   \n",
       "\n",
       "                              Volume  Dividends  Stock Splits  \n",
       "Date                                                           \n",
       "2023-02-24 00:00:00-05:00  142228100        0.0           0.0  \n",
       "2023-02-27 00:00:00-05:00  161028300        0.0           0.0  \n",
       "2023-02-28 00:00:00-05:00  153144900        0.0           0.0  \n",
       "2023-03-01 00:00:00-05:00  156852800        0.0           0.0  \n",
       "2023-03-02 00:00:00-05:00  181500700        0.0           0.0  "
      ]
     },
     "execution_count": 22,
     "metadata": {},
     "output_type": "execute_result"
    }
   ],
   "source": [
    "import yfinance as yf\n",
    "\n",
    "ticker_symbol = \"TSLA\" # 테슬라 주식 심볼\n",
    "ticker_data = yf.Ticker(ticker_symbol)\n",
    "\n",
    "# 해당 종목의 정보 가져오기 암호화 에러 발생으로 제외\n",
    "# ticker_data.info\n",
    "\n",
    "df = ticker_data.history(period='5d')\n",
    "df"
   ]
  },
  {
   "cell_type": "markdown",
   "metadata": {},
   "source": [
    "[8장: 412페이지]"
   ]
  },
  {
   "cell_type": "code",
   "execution_count": 10,
   "metadata": {
    "scrolled": true
   },
   "outputs": [
    {
     "data": {
      "text/html": [
       "<div>\n",
       "<style scoped>\n",
       "    .dataframe tbody tr th:only-of-type {\n",
       "        vertical-align: middle;\n",
       "    }\n",
       "\n",
       "    .dataframe tbody tr th {\n",
       "        vertical-align: top;\n",
       "    }\n",
       "\n",
       "    .dataframe thead th {\n",
       "        text-align: right;\n",
       "    }\n",
       "</style>\n",
       "<table border=\"1\" class=\"dataframe\">\n",
       "  <thead>\n",
       "    <tr style=\"text-align: right;\">\n",
       "      <th></th>\n",
       "      <th>Open</th>\n",
       "      <th>High</th>\n",
       "      <th>Low</th>\n",
       "      <th>Close</th>\n",
       "      <th>Volume</th>\n",
       "      <th>Dividends</th>\n",
       "      <th>Stock Splits</th>\n",
       "    </tr>\n",
       "    <tr>\n",
       "      <th>Date</th>\n",
       "      <th></th>\n",
       "      <th></th>\n",
       "      <th></th>\n",
       "      <th></th>\n",
       "      <th></th>\n",
       "      <th></th>\n",
       "      <th></th>\n",
       "    </tr>\n",
       "  </thead>\n",
       "  <tbody>\n",
       "    <tr>\n",
       "      <th>2022-04-18 00:00:00-04:00</th>\n",
       "      <td>329.676666</td>\n",
       "      <td>338.306671</td>\n",
       "      <td>324.470001</td>\n",
       "      <td>334.763336</td>\n",
       "      <td>51715200</td>\n",
       "      <td>0.0</td>\n",
       "      <td>0.0</td>\n",
       "    </tr>\n",
       "    <tr>\n",
       "      <th>2022-04-19 00:00:00-04:00</th>\n",
       "      <td>335.019989</td>\n",
       "      <td>344.980011</td>\n",
       "      <td>331.776672</td>\n",
       "      <td>342.716675</td>\n",
       "      <td>49847700</td>\n",
       "      <td>0.0</td>\n",
       "      <td>0.0</td>\n",
       "    </tr>\n",
       "    <tr>\n",
       "      <th>2022-04-20 00:00:00-04:00</th>\n",
       "      <td>343.333344</td>\n",
       "      <td>344.666656</td>\n",
       "      <td>325.083344</td>\n",
       "      <td>325.733337</td>\n",
       "      <td>70711200</td>\n",
       "      <td>0.0</td>\n",
       "      <td>0.0</td>\n",
       "    </tr>\n",
       "    <tr>\n",
       "      <th>2022-04-21 00:00:00-04:00</th>\n",
       "      <td>358.243347</td>\n",
       "      <td>364.073334</td>\n",
       "      <td>332.140015</td>\n",
       "      <td>336.260010</td>\n",
       "      <td>105416400</td>\n",
       "      <td>0.0</td>\n",
       "      <td>0.0</td>\n",
       "    </tr>\n",
       "  </tbody>\n",
       "</table>\n",
       "</div>"
      ],
      "text/plain": [
       "                                 Open        High         Low       Close  \\\n",
       "Date                                                                        \n",
       "2022-04-18 00:00:00-04:00  329.676666  338.306671  324.470001  334.763336   \n",
       "2022-04-19 00:00:00-04:00  335.019989  344.980011  331.776672  342.716675   \n",
       "2022-04-20 00:00:00-04:00  343.333344  344.666656  325.083344  325.733337   \n",
       "2022-04-21 00:00:00-04:00  358.243347  364.073334  332.140015  336.260010   \n",
       "\n",
       "                              Volume  Dividends  Stock Splits  \n",
       "Date                                                           \n",
       "2022-04-18 00:00:00-04:00   51715200        0.0           0.0  \n",
       "2022-04-19 00:00:00-04:00   49847700        0.0           0.0  \n",
       "2022-04-20 00:00:00-04:00   70711200        0.0           0.0  \n",
       "2022-04-21 00:00:00-04:00  105416400        0.0           0.0  "
      ]
     },
     "execution_count": 10,
     "metadata": {},
     "output_type": "execute_result"
    }
   ],
   "source": [
    "df = ticker_data.history(period='1mo', interval='1d',start='2022-04-18', end='2022-04-22')\n",
    "df"
   ]
  },
  {
   "cell_type": "markdown",
   "metadata": {},
   "source": [
    "[8장: 413페이지]"
   ]
  },
  {
   "cell_type": "code",
   "execution_count": 11,
   "metadata": {},
   "outputs": [
    {
     "data": {
      "text/html": [
       "<div>\n",
       "<style scoped>\n",
       "    .dataframe tbody tr th:only-of-type {\n",
       "        vertical-align: middle;\n",
       "    }\n",
       "\n",
       "    .dataframe tbody tr th {\n",
       "        vertical-align: top;\n",
       "    }\n",
       "\n",
       "    .dataframe thead th {\n",
       "        text-align: right;\n",
       "    }\n",
       "</style>\n",
       "<table border=\"1\" class=\"dataframe\">\n",
       "  <thead>\n",
       "    <tr style=\"text-align: right;\">\n",
       "      <th></th>\n",
       "      <th>Open</th>\n",
       "      <th>High</th>\n",
       "      <th>Low</th>\n",
       "      <th>Close</th>\n",
       "      <th>Volume</th>\n",
       "      <th>Dividends</th>\n",
       "      <th>Stock Splits</th>\n",
       "    </tr>\n",
       "    <tr>\n",
       "      <th>Date</th>\n",
       "      <th></th>\n",
       "      <th></th>\n",
       "      <th></th>\n",
       "      <th></th>\n",
       "      <th></th>\n",
       "      <th></th>\n",
       "      <th></th>\n",
       "    </tr>\n",
       "  </thead>\n",
       "  <tbody>\n",
       "    <tr>\n",
       "      <th>2022-04-18 00:00:00-04:00</th>\n",
       "      <td>329.676666</td>\n",
       "      <td>338.306671</td>\n",
       "      <td>324.470001</td>\n",
       "      <td>334.763336</td>\n",
       "      <td>51715200</td>\n",
       "      <td>0.0</td>\n",
       "      <td>0.0</td>\n",
       "    </tr>\n",
       "    <tr>\n",
       "      <th>2022-04-19 00:00:00-04:00</th>\n",
       "      <td>335.019989</td>\n",
       "      <td>344.980011</td>\n",
       "      <td>331.776672</td>\n",
       "      <td>342.716675</td>\n",
       "      <td>49847700</td>\n",
       "      <td>0.0</td>\n",
       "      <td>0.0</td>\n",
       "    </tr>\n",
       "    <tr>\n",
       "      <th>2022-04-20 00:00:00-04:00</th>\n",
       "      <td>343.333344</td>\n",
       "      <td>344.666656</td>\n",
       "      <td>325.083344</td>\n",
       "      <td>325.733337</td>\n",
       "      <td>70711200</td>\n",
       "      <td>0.0</td>\n",
       "      <td>0.0</td>\n",
       "    </tr>\n",
       "    <tr>\n",
       "      <th>2022-04-21 00:00:00-04:00</th>\n",
       "      <td>358.243347</td>\n",
       "      <td>364.073334</td>\n",
       "      <td>332.140015</td>\n",
       "      <td>336.260010</td>\n",
       "      <td>105416400</td>\n",
       "      <td>0.0</td>\n",
       "      <td>0.0</td>\n",
       "    </tr>\n",
       "    <tr>\n",
       "      <th>2022-04-22 00:00:00-04:00</th>\n",
       "      <td>338.303345</td>\n",
       "      <td>344.950012</td>\n",
       "      <td>331.333344</td>\n",
       "      <td>335.016663</td>\n",
       "      <td>69696600</td>\n",
       "      <td>0.0</td>\n",
       "      <td>0.0</td>\n",
       "    </tr>\n",
       "  </tbody>\n",
       "</table>\n",
       "</div>"
      ],
      "text/plain": [
       "                                 Open        High         Low       Close  \\\n",
       "Date                                                                        \n",
       "2022-04-18 00:00:00-04:00  329.676666  338.306671  324.470001  334.763336   \n",
       "2022-04-19 00:00:00-04:00  335.019989  344.980011  331.776672  342.716675   \n",
       "2022-04-20 00:00:00-04:00  343.333344  344.666656  325.083344  325.733337   \n",
       "2022-04-21 00:00:00-04:00  358.243347  364.073334  332.140015  336.260010   \n",
       "2022-04-22 00:00:00-04:00  338.303345  344.950012  331.333344  335.016663   \n",
       "\n",
       "                              Volume  Dividends  Stock Splits  \n",
       "Date                                                           \n",
       "2022-04-18 00:00:00-04:00   51715200        0.0           0.0  \n",
       "2022-04-19 00:00:00-04:00   49847700        0.0           0.0  \n",
       "2022-04-20 00:00:00-04:00   70711200        0.0           0.0  \n",
       "2022-04-21 00:00:00-04:00  105416400        0.0           0.0  \n",
       "2022-04-22 00:00:00-04:00   69696600        0.0           0.0  "
      ]
     },
     "execution_count": 11,
     "metadata": {},
     "output_type": "execute_result"
    }
   ],
   "source": [
    "df = ticker_data.history(start='2022-04-18', end='2022-04-23') # start와 end 모두 지정\n",
    "# df = ticker_data.history(start='2022-04-18') # start만 지정\n",
    "df"
   ]
  },
  {
   "cell_type": "code",
   "execution_count": 12,
   "metadata": {},
   "outputs": [
    {
     "data": {
      "text/html": [
       "<div>\n",
       "<style scoped>\n",
       "    .dataframe tbody tr th:only-of-type {\n",
       "        vertical-align: middle;\n",
       "    }\n",
       "\n",
       "    .dataframe tbody tr th {\n",
       "        vertical-align: top;\n",
       "    }\n",
       "\n",
       "    .dataframe thead th {\n",
       "        text-align: right;\n",
       "    }\n",
       "</style>\n",
       "<table border=\"1\" class=\"dataframe\">\n",
       "  <thead>\n",
       "    <tr style=\"text-align: right;\">\n",
       "      <th></th>\n",
       "      <th>Open</th>\n",
       "      <th>High</th>\n",
       "      <th>Low</th>\n",
       "      <th>Close</th>\n",
       "      <th>Volume</th>\n",
       "      <th>Dividends</th>\n",
       "      <th>Stock Splits</th>\n",
       "    </tr>\n",
       "    <tr>\n",
       "      <th>Date</th>\n",
       "      <th></th>\n",
       "      <th></th>\n",
       "      <th></th>\n",
       "      <th></th>\n",
       "      <th></th>\n",
       "      <th></th>\n",
       "      <th></th>\n",
       "    </tr>\n",
       "  </thead>\n",
       "  <tbody>\n",
       "    <tr>\n",
       "      <th>2021-05-24 00:00:00-04:00</th>\n",
       "      <td>193.866669</td>\n",
       "      <td>204.826660</td>\n",
       "      <td>191.216660</td>\n",
       "      <td>202.146667</td>\n",
       "      <td>103674300</td>\n",
       "      <td>0.0</td>\n",
       "      <td>0.0</td>\n",
       "    </tr>\n",
       "    <tr>\n",
       "      <th>2021-05-25 00:00:00-04:00</th>\n",
       "      <td>202.436661</td>\n",
       "      <td>204.663330</td>\n",
       "      <td>198.570007</td>\n",
       "      <td>201.563339</td>\n",
       "      <td>84017700</td>\n",
       "      <td>0.0</td>\n",
       "      <td>0.0</td>\n",
       "    </tr>\n",
       "    <tr>\n",
       "      <th>2021-05-26 00:00:00-04:00</th>\n",
       "      <td>202.520004</td>\n",
       "      <td>208.723328</td>\n",
       "      <td>200.500000</td>\n",
       "      <td>206.376663</td>\n",
       "      <td>85917900</td>\n",
       "      <td>0.0</td>\n",
       "      <td>0.0</td>\n",
       "    </tr>\n",
       "    <tr>\n",
       "      <th>2021-05-27 00:00:00-04:00</th>\n",
       "      <td>206.746674</td>\n",
       "      <td>210.376663</td>\n",
       "      <td>205.403336</td>\n",
       "      <td>210.283340</td>\n",
       "      <td>79111800</td>\n",
       "      <td>0.0</td>\n",
       "      <td>0.0</td>\n",
       "    </tr>\n",
       "    <tr>\n",
       "      <th>2021-05-28 00:00:00-04:00</th>\n",
       "      <td>209.500000</td>\n",
       "      <td>211.863327</td>\n",
       "      <td>207.460007</td>\n",
       "      <td>208.406662</td>\n",
       "      <td>68211000</td>\n",
       "      <td>0.0</td>\n",
       "      <td>0.0</td>\n",
       "    </tr>\n",
       "  </tbody>\n",
       "</table>\n",
       "</div>"
      ],
      "text/plain": [
       "                                 Open        High         Low       Close  \\\n",
       "Date                                                                        \n",
       "2021-05-24 00:00:00-04:00  193.866669  204.826660  191.216660  202.146667   \n",
       "2021-05-25 00:00:00-04:00  202.436661  204.663330  198.570007  201.563339   \n",
       "2021-05-26 00:00:00-04:00  202.520004  208.723328  200.500000  206.376663   \n",
       "2021-05-27 00:00:00-04:00  206.746674  210.376663  205.403336  210.283340   \n",
       "2021-05-28 00:00:00-04:00  209.500000  211.863327  207.460007  208.406662   \n",
       "\n",
       "                              Volume  Dividends  Stock Splits  \n",
       "Date                                                           \n",
       "2021-05-24 00:00:00-04:00  103674300        0.0           0.0  \n",
       "2021-05-25 00:00:00-04:00   84017700        0.0           0.0  \n",
       "2021-05-26 00:00:00-04:00   85917900        0.0           0.0  \n",
       "2021-05-27 00:00:00-04:00   79111800        0.0           0.0  \n",
       "2021-05-28 00:00:00-04:00   68211000        0.0           0.0  "
      ]
     },
     "execution_count": 12,
     "metadata": {},
     "output_type": "execute_result"
    }
   ],
   "source": [
    "import datetime\n",
    "\n",
    "start_p = datetime.datetime(2021,5,24) # 시작일 지정\n",
    "end_p = datetime.datetime(2021,5,29)   # 종료일 지정\n",
    "\n",
    "df = ticker_data.history(start=start_p, end=end_p) # start와 end 모두 지정\n",
    "df"
   ]
  },
  {
   "cell_type": "markdown",
   "metadata": {},
   "source": [
    "### 8.5.3 국내 주식 데이터 가져오기"
   ]
  },
  {
   "cell_type": "markdown",
   "metadata": {},
   "source": [
    "[8장: 414페이지]"
   ]
  },
  {
   "cell_type": "code",
   "execution_count": 13,
   "metadata": {},
   "outputs": [],
   "source": [
    "import pandas as pd\n",
    "\n",
    "#----------------------------------------------------\n",
    "# 한국 주식의 종목 이름과 종목 코드를 가져오는 함수\n",
    "#----------------------------------------------------\n",
    "def get_stock_info(maket_type=None):\n",
    "    # 한국거래소(KRX)에서 전체 상장법인 목록 가져오기\n",
    "    base_url =  \"http://kind.krx.co.kr/corpgeneral/corpList.do\"\n",
    "    method = \"download\"\n",
    "    if maket_type == 'kospi':\n",
    "        marketType = \"stockMkt\"  # 주식 종목이 코스피인 경우\n",
    "    elif maket_type == 'kosdaq':\n",
    "        marketType = \"kosdaqMkt\" # 주식 종목이 코스닥인 경우\n",
    "    elif maket_type == None:\n",
    "        marketType = \"\"\n",
    "    url = \"{0}?method={1}&marketType={2}\".format(base_url, method, marketType)\n",
    "\n",
    "    df = pd.read_html(url, header=0)[0]\n",
    "    \n",
    "    # 종목코드 열을 6자리 숫자로 표시된 문자열로 변환\n",
    "    df['종목코드']= df['종목코드'].apply(lambda x: f\"{x:06d}\") \n",
    "    \n",
    "    # 회사명과 종목코드 열 데이터만 남김\n",
    "    df = df[['회사명','종목코드']]\n",
    "    \n",
    "    return df"
   ]
  },
  {
   "cell_type": "markdown",
   "metadata": {},
   "source": [
    "[8장: 415페이지]"
   ]
  },
  {
   "cell_type": "code",
   "execution_count": 14,
   "metadata": {},
   "outputs": [],
   "source": [
    "def get_ticker_symbol(company_name, maket_type):\n",
    "    \"\"\"\n",
    "    ----------------------------------------------------\n",
    "      yfinance에 이용할 Ticker 심볼을 반환하는 함수\n",
    "    ----------------------------------------------------\n",
    "    \"\"\"\n",
    "    df = get_stock_info(maket_type)\n",
    "    code = df[df['회사명']==company_name]['종목코드'].values\n",
    "    code = code[0]\n",
    "    \n",
    "    if maket_type == 'kospi':\n",
    "        ticker_symbol = code +\".KS\" # 코스피 주식의 심볼\n",
    "    elif maket_type == 'kosdaq':\n",
    "        ticker_symbol = code +\".KQ\" # 코스닥 주식의 심볼\n",
    "    \n",
    "    return ticker_symbol"
   ]
  },
  {
   "cell_type": "code",
   "execution_count": 67,
   "metadata": {
    "scrolled": true
   },
   "outputs": [
    {
     "data": {
      "text/html": [
       "<div>\n",
       "<style scoped>\n",
       "    .dataframe tbody tr th:only-of-type {\n",
       "        vertical-align: middle;\n",
       "    }\n",
       "\n",
       "    .dataframe tbody tr th {\n",
       "        vertical-align: top;\n",
       "    }\n",
       "\n",
       "    .dataframe thead th {\n",
       "        text-align: right;\n",
       "    }\n",
       "</style>\n",
       "<table border=\"1\" class=\"dataframe\">\n",
       "  <thead>\n",
       "    <tr style=\"text-align: right;\">\n",
       "      <th></th>\n",
       "      <th>Open</th>\n",
       "      <th>High</th>\n",
       "      <th>Low</th>\n",
       "      <th>Close</th>\n",
       "      <th>Volume</th>\n",
       "      <th>Dividends</th>\n",
       "      <th>Stock Splits</th>\n",
       "    </tr>\n",
       "    <tr>\n",
       "      <th>Date</th>\n",
       "      <th></th>\n",
       "      <th></th>\n",
       "      <th></th>\n",
       "      <th></th>\n",
       "      <th></th>\n",
       "      <th></th>\n",
       "      <th></th>\n",
       "    </tr>\n",
       "  </thead>\n",
       "  <tbody>\n",
       "    <tr>\n",
       "      <th>2022-06-13 00:00:00+09:00</th>\n",
       "      <td>61214.790157</td>\n",
       "      <td>61607.192658</td>\n",
       "      <td>60920.488281</td>\n",
       "      <td>60920.488281</td>\n",
       "      <td>22157816</td>\n",
       "      <td>0.0</td>\n",
       "      <td>0.0</td>\n",
       "    </tr>\n",
       "    <tr>\n",
       "      <th>2022-06-14 00:00:00+09:00</th>\n",
       "      <td>60037.584663</td>\n",
       "      <td>61018.590948</td>\n",
       "      <td>59939.484034</td>\n",
       "      <td>60724.289062</td>\n",
       "      <td>24606419</td>\n",
       "      <td>0.0</td>\n",
       "      <td>0.0</td>\n",
       "    </tr>\n",
       "    <tr>\n",
       "      <th>2022-06-15 00:00:00+09:00</th>\n",
       "      <td>60135.685808</td>\n",
       "      <td>60331.887066</td>\n",
       "      <td>59056.578884</td>\n",
       "      <td>59547.082031</td>\n",
       "      <td>26811224</td>\n",
       "      <td>0.0</td>\n",
       "      <td>0.0</td>\n",
       "    </tr>\n",
       "    <tr>\n",
       "      <th>2022-06-16 00:00:00+09:00</th>\n",
       "      <td>60135.687686</td>\n",
       "      <td>60626.190848</td>\n",
       "      <td>59350.882626</td>\n",
       "      <td>59743.285156</td>\n",
       "      <td>23394895</td>\n",
       "      <td>0.0</td>\n",
       "      <td>0.0</td>\n",
       "    </tr>\n",
       "    <tr>\n",
       "      <th>2022-06-17 00:00:00+09:00</th>\n",
       "      <td>58271.773268</td>\n",
       "      <td>58762.276410</td>\n",
       "      <td>58271.773268</td>\n",
       "      <td>58664.175781</td>\n",
       "      <td>29053450</td>\n",
       "      <td>0.0</td>\n",
       "      <td>0.0</td>\n",
       "    </tr>\n",
       "  </tbody>\n",
       "</table>\n",
       "</div>"
      ],
      "text/plain": [
       "                                   Open          High           Low  \\\n",
       "Date                                                                  \n",
       "2022-06-13 00:00:00+09:00  61214.790157  61607.192658  60920.488281   \n",
       "2022-06-14 00:00:00+09:00  60037.584663  61018.590948  59939.484034   \n",
       "2022-06-15 00:00:00+09:00  60135.685808  60331.887066  59056.578884   \n",
       "2022-06-16 00:00:00+09:00  60135.687686  60626.190848  59350.882626   \n",
       "2022-06-17 00:00:00+09:00  58271.773268  58762.276410  58271.773268   \n",
       "\n",
       "                                  Close    Volume  Dividends  Stock Splits  \n",
       "Date                                                                        \n",
       "2022-06-13 00:00:00+09:00  60920.488281  22157816        0.0           0.0  \n",
       "2022-06-14 00:00:00+09:00  60724.289062  24606419        0.0           0.0  \n",
       "2022-06-15 00:00:00+09:00  59547.082031  26811224        0.0           0.0  \n",
       "2022-06-16 00:00:00+09:00  59743.285156  23394895        0.0           0.0  \n",
       "2022-06-17 00:00:00+09:00  58664.175781  29053450        0.0           0.0  "
      ]
     },
     "metadata": {},
     "output_type": "display_data"
    },
    {
     "data": {
      "text/html": [
       "<div>\n",
       "<style scoped>\n",
       "    .dataframe tbody tr th:only-of-type {\n",
       "        vertical-align: middle;\n",
       "    }\n",
       "\n",
       "    .dataframe tbody tr th {\n",
       "        vertical-align: top;\n",
       "    }\n",
       "\n",
       "    .dataframe thead th {\n",
       "        text-align: right;\n",
       "    }\n",
       "</style>\n",
       "<table border=\"1\" class=\"dataframe\">\n",
       "  <thead>\n",
       "    <tr style=\"text-align: right;\">\n",
       "      <th></th>\n",
       "      <th>Date</th>\n",
       "      <th>Open</th>\n",
       "      <th>High</th>\n",
       "      <th>Low</th>\n",
       "      <th>Close</th>\n",
       "      <th>Volume</th>\n",
       "      <th>Dividends</th>\n",
       "      <th>Stock Splits</th>\n",
       "    </tr>\n",
       "  </thead>\n",
       "  <tbody>\n",
       "    <tr>\n",
       "      <th>0</th>\n",
       "      <td>2022-06-13</td>\n",
       "      <td>61214.790157</td>\n",
       "      <td>61607.192658</td>\n",
       "      <td>60920.488281</td>\n",
       "      <td>60920.488281</td>\n",
       "      <td>22157816</td>\n",
       "      <td>0.0</td>\n",
       "      <td>0.0</td>\n",
       "    </tr>\n",
       "    <tr>\n",
       "      <th>1</th>\n",
       "      <td>2022-06-14</td>\n",
       "      <td>60037.584663</td>\n",
       "      <td>61018.590948</td>\n",
       "      <td>59939.484034</td>\n",
       "      <td>60724.289062</td>\n",
       "      <td>24606419</td>\n",
       "      <td>0.0</td>\n",
       "      <td>0.0</td>\n",
       "    </tr>\n",
       "    <tr>\n",
       "      <th>2</th>\n",
       "      <td>2022-06-15</td>\n",
       "      <td>60135.685808</td>\n",
       "      <td>60331.887066</td>\n",
       "      <td>59056.578884</td>\n",
       "      <td>59547.082031</td>\n",
       "      <td>26811224</td>\n",
       "      <td>0.0</td>\n",
       "      <td>0.0</td>\n",
       "    </tr>\n",
       "    <tr>\n",
       "      <th>3</th>\n",
       "      <td>2022-06-16</td>\n",
       "      <td>60135.687686</td>\n",
       "      <td>60626.190848</td>\n",
       "      <td>59350.882626</td>\n",
       "      <td>59743.285156</td>\n",
       "      <td>23394895</td>\n",
       "      <td>0.0</td>\n",
       "      <td>0.0</td>\n",
       "    </tr>\n",
       "    <tr>\n",
       "      <th>4</th>\n",
       "      <td>2022-06-17</td>\n",
       "      <td>58271.773268</td>\n",
       "      <td>58762.276410</td>\n",
       "      <td>58271.773268</td>\n",
       "      <td>58664.175781</td>\n",
       "      <td>29053450</td>\n",
       "      <td>0.0</td>\n",
       "      <td>0.0</td>\n",
       "    </tr>\n",
       "  </tbody>\n",
       "</table>\n",
       "</div>"
      ],
      "text/plain": [
       "         Date          Open          High           Low         Close  \\\n",
       "0  2022-06-13  61214.790157  61607.192658  60920.488281  60920.488281   \n",
       "1  2022-06-14  60037.584663  61018.590948  59939.484034  60724.289062   \n",
       "2  2022-06-15  60135.685808  60331.887066  59056.578884  59547.082031   \n",
       "3  2022-06-16  60135.687686  60626.190848  59350.882626  59743.285156   \n",
       "4  2022-06-17  58271.773268  58762.276410  58271.773268  58664.175781   \n",
       "\n",
       "     Volume  Dividends  Stock Splits  \n",
       "0  22157816        0.0           0.0  \n",
       "1  24606419        0.0           0.0  \n",
       "2  26811224        0.0           0.0  \n",
       "3  23394895        0.0           0.0  \n",
       "4  29053450        0.0           0.0  "
      ]
     },
     "metadata": {},
     "output_type": "display_data"
    }
   ],
   "source": [
    "import yfinance as yf\n",
    "\n",
    "ticker_symbol = get_ticker_symbol(\"삼성전자\", \"kospi\") # 삼성전자, 주식 종류는 코스피로 지정\n",
    "ticker_data = yf.Ticker(ticker_symbol)\n",
    "# df = yf.download(ticker_symbols, start=\"2020-01-01\", end=\"2022-01-01\")\n",
    "df = ticker_data.history(start='2022-06-13', end='2022-06-18') # 시작일과 종료일 지정\n",
    "# df = ticker_data.history(period='5d') # 기간을 지정\n",
    "\n",
    "display(df)\n",
    "df.reset_index(inplace=True)\n",
    "df['Date'] = df['Date'].apply(lambda a: pd.to_datetime(a).date())\n",
    "display(df)"
   ]
  },
  {
   "cell_type": "markdown",
   "metadata": {},
   "source": [
    "[8장: 416페이지]"
   ]
  },
  {
   "cell_type": "code",
   "execution_count": null,
   "metadata": {
    "scrolled": true
   },
   "outputs": [],
   "source": [
    "excel_file_name = \"./data/삼성전자_주가_데이터.xlsx\" # 엑셀 파일 이름 지정\n",
    "# excel_file_name = \"C:/myPyScraping/data/ch08/삼성전자_주가_데이터.xlsx\" # 엑셀 파일 이름 지정\n",
    "\n",
    "# display(df.dtypes)\n",
    "df.to_excel(excel_file_name, header = True, index = False)\n",
    "\n",
    "print(\"생성 파일:\", excel_file_name)"
   ]
  },
  {
   "cell_type": "markdown",
   "metadata": {},
   "source": [
    "### 8.5.4 여러 주식 데이터 가져오기"
   ]
  },
  {
   "cell_type": "markdown",
   "metadata": {},
   "source": [
    "[8장: 417페이지]"
   ]
  },
  {
   "cell_type": "code",
   "execution_count": 59,
   "metadata": {},
   "outputs": [
    {
     "name": "stdout",
     "output_type": "stream",
     "text": [
      "[*********************100%***********************]  1 of 1 completed\n"
     ]
    },
    {
     "data": {
      "text/html": [
       "<div>\n",
       "<style scoped>\n",
       "    .dataframe tbody tr th:only-of-type {\n",
       "        vertical-align: middle;\n",
       "    }\n",
       "\n",
       "    .dataframe tbody tr th {\n",
       "        vertical-align: top;\n",
       "    }\n",
       "\n",
       "    .dataframe thead th {\n",
       "        text-align: right;\n",
       "    }\n",
       "</style>\n",
       "<table border=\"1\" class=\"dataframe\">\n",
       "  <thead>\n",
       "    <tr style=\"text-align: right;\">\n",
       "      <th></th>\n",
       "      <th>Open</th>\n",
       "      <th>High</th>\n",
       "      <th>Low</th>\n",
       "      <th>Close</th>\n",
       "      <th>Adj Close</th>\n",
       "      <th>Volume</th>\n",
       "    </tr>\n",
       "    <tr>\n",
       "      <th>Date</th>\n",
       "      <th></th>\n",
       "      <th></th>\n",
       "      <th></th>\n",
       "      <th></th>\n",
       "      <th></th>\n",
       "      <th></th>\n",
       "    </tr>\n",
       "  </thead>\n",
       "  <tbody>\n",
       "    <tr>\n",
       "      <th>2021-12-27</th>\n",
       "      <td>335.459991</td>\n",
       "      <td>342.480011</td>\n",
       "      <td>335.429993</td>\n",
       "      <td>342.450012</td>\n",
       "      <td>338.423340</td>\n",
       "      <td>19947000</td>\n",
       "    </tr>\n",
       "    <tr>\n",
       "      <th>2021-12-28</th>\n",
       "      <td>343.149994</td>\n",
       "      <td>343.809998</td>\n",
       "      <td>340.320007</td>\n",
       "      <td>341.250000</td>\n",
       "      <td>337.237457</td>\n",
       "      <td>15661500</td>\n",
       "    </tr>\n",
       "    <tr>\n",
       "      <th>2021-12-29</th>\n",
       "      <td>341.299988</td>\n",
       "      <td>344.299988</td>\n",
       "      <td>339.679993</td>\n",
       "      <td>341.950012</td>\n",
       "      <td>337.929260</td>\n",
       "      <td>15042000</td>\n",
       "    </tr>\n",
       "    <tr>\n",
       "      <th>2021-12-30</th>\n",
       "      <td>341.910004</td>\n",
       "      <td>343.130005</td>\n",
       "      <td>338.820007</td>\n",
       "      <td>339.320007</td>\n",
       "      <td>335.330139</td>\n",
       "      <td>15994500</td>\n",
       "    </tr>\n",
       "    <tr>\n",
       "      <th>2021-12-31</th>\n",
       "      <td>338.510010</td>\n",
       "      <td>339.359985</td>\n",
       "      <td>335.850006</td>\n",
       "      <td>336.320007</td>\n",
       "      <td>332.365417</td>\n",
       "      <td>18000800</td>\n",
       "    </tr>\n",
       "  </tbody>\n",
       "</table>\n",
       "</div>"
      ],
      "text/plain": [
       "                  Open        High         Low       Close   Adj Close  \\\n",
       "Date                                                                     \n",
       "2021-12-27  335.459991  342.480011  335.429993  342.450012  338.423340   \n",
       "2021-12-28  343.149994  343.809998  340.320007  341.250000  337.237457   \n",
       "2021-12-29  341.299988  344.299988  339.679993  341.950012  337.929260   \n",
       "2021-12-30  341.910004  343.130005  338.820007  339.320007  335.330139   \n",
       "2021-12-31  338.510010  339.359985  335.850006  336.320007  332.365417   \n",
       "\n",
       "              Volume  \n",
       "Date                  \n",
       "2021-12-27  19947000  \n",
       "2021-12-28  15661500  \n",
       "2021-12-29  15042000  \n",
       "2021-12-30  15994500  \n",
       "2021-12-31  18000800  "
      ]
     },
     "execution_count": 59,
     "metadata": {},
     "output_type": "execute_result"
    }
   ],
   "source": [
    "ticker_symbols = \"MSFT\" # 마이크로소프트 주식 심볼\n",
    "# ticker_symbols = [\"MSFT\"] # 리스트도 지정해도 됨\n",
    "df = yf.download(ticker_symbols, start=\"2020-01-01\", end=\"2022-01-01\")\n",
    "df.tail()"
   ]
  },
  {
   "cell_type": "code",
   "execution_count": 60,
   "metadata": {
    "scrolled": true
   },
   "outputs": [
    {
     "data": {
      "image/png": "[encoded data removed]",
      "text/plain": [
       "<Figure size 1080x360 with 1 Axes>"
      ]
     },
     "metadata": {
      "needs_background": "light"
     },
     "output_type": "display_data"
    }
   ],
   "source": [
    "# 그래프 그리기\n",
    "import matplotlib.pyplot as plt\n",
    "\n",
    "df['Close'].plot(grid=True, figsize=(15, 5), title=\"Microsoft\")\n",
    "plt.show()"
   ]
  },
  {
   "cell_type": "markdown",
   "metadata": {},
   "source": [
    "[8장: 418페이지]"
   ]
  },
  {
   "cell_type": "code",
   "execution_count": 69,
   "metadata": {},
   "outputs": [
    {
     "name": "stdout",
     "output_type": "stream",
     "text": [
      "[*********************100%***********************]  2 of 2 completed\n"
     ]
    },
    {
     "data": {
      "text/html": [
       "<div>\n",
       "<style scoped>\n",
       "    .dataframe tbody tr th:only-of-type {\n",
       "        vertical-align: middle;\n",
       "    }\n",
       "\n",
       "    .dataframe tbody tr th {\n",
       "        vertical-align: top;\n",
       "    }\n",
       "\n",
       "    .dataframe thead tr th {\n",
       "        text-align: left;\n",
       "    }\n",
       "\n",
       "    .dataframe thead tr:last-of-type th {\n",
       "        text-align: right;\n",
       "    }\n",
       "</style>\n",
       "<table border=\"1\" class=\"dataframe\">\n",
       "  <thead>\n",
       "    <tr>\n",
       "      <th></th>\n",
       "      <th colspan=\"2\" halign=\"left\">Adj Close</th>\n",
       "      <th colspan=\"2\" halign=\"left\">Close</th>\n",
       "      <th colspan=\"2\" halign=\"left\">High</th>\n",
       "      <th colspan=\"2\" halign=\"left\">Low</th>\n",
       "      <th colspan=\"2\" halign=\"left\">Open</th>\n",
       "      <th colspan=\"2\" halign=\"left\">Volume</th>\n",
       "    </tr>\n",
       "    <tr>\n",
       "      <th></th>\n",
       "      <th>AAPL</th>\n",
       "      <th>GOOG</th>\n",
       "      <th>AAPL</th>\n",
       "      <th>GOOG</th>\n",
       "      <th>AAPL</th>\n",
       "      <th>GOOG</th>\n",
       "      <th>AAPL</th>\n",
       "      <th>GOOG</th>\n",
       "      <th>AAPL</th>\n",
       "      <th>GOOG</th>\n",
       "      <th>AAPL</th>\n",
       "      <th>GOOG</th>\n",
       "    </tr>\n",
       "    <tr>\n",
       "      <th>Date</th>\n",
       "      <th></th>\n",
       "      <th></th>\n",
       "      <th></th>\n",
       "      <th></th>\n",
       "      <th></th>\n",
       "      <th></th>\n",
       "      <th></th>\n",
       "      <th></th>\n",
       "      <th></th>\n",
       "      <th></th>\n",
       "      <th></th>\n",
       "      <th></th>\n",
       "    </tr>\n",
       "  </thead>\n",
       "  <tbody>\n",
       "    <tr>\n",
       "      <th>2021-12-27</th>\n",
       "      <td>179.016113</td>\n",
       "      <td>148.063995</td>\n",
       "      <td>180.330002</td>\n",
       "      <td>148.063995</td>\n",
       "      <td>180.419998</td>\n",
       "      <td>148.426498</td>\n",
       "      <td>177.070007</td>\n",
       "      <td>147.250000</td>\n",
       "      <td>177.089996</td>\n",
       "      <td>147.463501</td>\n",
       "      <td>74919600</td>\n",
       "      <td>13256000</td>\n",
       "    </tr>\n",
       "    <tr>\n",
       "      <th>2021-12-28</th>\n",
       "      <td>177.983688</td>\n",
       "      <td>146.447998</td>\n",
       "      <td>179.289993</td>\n",
       "      <td>146.447998</td>\n",
       "      <td>181.330002</td>\n",
       "      <td>148.374496</td>\n",
       "      <td>178.529999</td>\n",
       "      <td>145.935501</td>\n",
       "      <td>180.160004</td>\n",
       "      <td>148.374496</td>\n",
       "      <td>79144300</td>\n",
       "      <td>18624000</td>\n",
       "    </tr>\n",
       "    <tr>\n",
       "      <th>2021-12-29</th>\n",
       "      <td>178.073044</td>\n",
       "      <td>146.504501</td>\n",
       "      <td>179.380005</td>\n",
       "      <td>146.504501</td>\n",
       "      <td>180.630005</td>\n",
       "      <td>147.183746</td>\n",
       "      <td>178.139999</td>\n",
       "      <td>145.504501</td>\n",
       "      <td>179.330002</td>\n",
       "      <td>146.429504</td>\n",
       "      <td>62348900</td>\n",
       "      <td>17022000</td>\n",
       "    </tr>\n",
       "    <tr>\n",
       "      <th>2021-12-30</th>\n",
       "      <td>176.901611</td>\n",
       "      <td>146.002502</td>\n",
       "      <td>178.199997</td>\n",
       "      <td>146.002502</td>\n",
       "      <td>180.570007</td>\n",
       "      <td>147.062500</td>\n",
       "      <td>178.089996</td>\n",
       "      <td>145.758499</td>\n",
       "      <td>179.470001</td>\n",
       "      <td>146.449997</td>\n",
       "      <td>59773000</td>\n",
       "      <td>12978000</td>\n",
       "    </tr>\n",
       "    <tr>\n",
       "      <th>2021-12-31</th>\n",
       "      <td>176.276230</td>\n",
       "      <td>144.679504</td>\n",
       "      <td>177.570007</td>\n",
       "      <td>144.679504</td>\n",
       "      <td>179.229996</td>\n",
       "      <td>146.365005</td>\n",
       "      <td>177.259995</td>\n",
       "      <td>144.677505</td>\n",
       "      <td>178.089996</td>\n",
       "      <td>145.544006</td>\n",
       "      <td>64062300</td>\n",
       "      <td>17298000</td>\n",
       "    </tr>\n",
       "  </tbody>\n",
       "</table>\n",
       "</div>"
      ],
      "text/plain": [
       "             Adj Close                   Close                    High  \\\n",
       "                  AAPL        GOOG        AAPL        GOOG        AAPL   \n",
       "Date                                                                     \n",
       "2021-12-27  179.016113  148.063995  180.330002  148.063995  180.419998   \n",
       "2021-12-28  177.983688  146.447998  179.289993  146.447998  181.330002   \n",
       "2021-12-29  178.073044  146.504501  179.380005  146.504501  180.630005   \n",
       "2021-12-30  176.901611  146.002502  178.199997  146.002502  180.570007   \n",
       "2021-12-31  176.276230  144.679504  177.570007  144.679504  179.229996   \n",
       "\n",
       "                               Low                    Open              \\\n",
       "                  GOOG        AAPL        GOOG        AAPL        GOOG   \n",
       "Date                                                                     \n",
       "2021-12-27  148.426498  177.070007  147.250000  177.089996  147.463501   \n",
       "2021-12-28  148.374496  178.529999  145.935501  180.160004  148.374496   \n",
       "2021-12-29  147.183746  178.139999  145.504501  179.330002  146.429504   \n",
       "2021-12-30  147.062500  178.089996  145.758499  179.470001  146.449997   \n",
       "2021-12-31  146.365005  177.259995  144.677505  178.089996  145.544006   \n",
       "\n",
       "              Volume            \n",
       "                AAPL      GOOG  \n",
       "Date                            \n",
       "2021-12-27  74919600  13256000  \n",
       "2021-12-28  79144300  18624000  \n",
       "2021-12-29  62348900  17022000  \n",
       "2021-12-30  59773000  12978000  \n",
       "2021-12-31  64062300  17298000  "
      ]
     },
     "metadata": {},
     "output_type": "display_data"
    },
    {
     "name": "stdout",
     "output_type": "stream",
     "text": [
      "생성 파일: ./data/삼성전자_주가_데이터.xlsx\n"
     ]
    }
   ],
   "source": [
    "ticker_symbols = [\"GOOG\", \"AAPL\"] # 주식 심볼 리스트(구글, 애플)\n",
    "df = yf.download(ticker_symbols,  start=\"2020-01-01\", end=\"2022-01-01\")\n",
    "display(df.tail())\n",
    "df.to_excel(excel_file_name, header = True, index = True)\n",
    "print(\"생성 파일:\", excel_file_name)"
   ]
  },
  {
   "cell_type": "code",
   "execution_count": null,
   "metadata": {
    "scrolled": true
   },
   "outputs": [],
   "source": [
    "# 그래프 그리기\n",
    "import matplotlib.pyplot as plt\n",
    "\n",
    "df['Close'].plot(grid=True, figsize=(15, 5))\n",
    "plt.show()"
   ]
  },
  {
   "cell_type": "markdown",
   "metadata": {},
   "source": [
    "[8장: 419페이지]"
   ]
  },
  {
   "cell_type": "code",
   "execution_count": null,
   "metadata": {},
   "outputs": [],
   "source": [
    "# 그래프 그리기\n",
    "df['Close'].plot(grid=True, figsize=(15, 5), subplots=True, layout=(2,1))\n",
    "plt.show()"
   ]
  },
  {
   "cell_type": "markdown",
   "metadata": {},
   "source": [
    "## 8.6 정리"
   ]
  }
 ],
 "metadata": {
  "anaconda-cloud": {},
  "kernelspec": {
   "display_name": "Python 3",
   "language": "python",
   "name": "python3"
  },
  "language_info": {
   "codemirror_mode": {
    "name": "ipython",
    "version": 3
   },
   "file_extension": ".py",
   "mimetype": "text/x-python",
   "name": "python",
   "nbconvert_exporter": "python",
   "pygments_lexer": "ipython3",
   "version": "3.7.4"
  },
  "latex_envs": {
   "LaTeX_envs_menu_present": true,
   "autoclose": false,
   "autocomplete": true,
   "bibliofile": "biblio.bib",
   "cite_by": "apalike",
   "current_citInitial": 1,
   "eqLabelWithNumbers": true,
   "eqNumInitial": 1,
   "hotkeys": {
    "equation": "Ctrl-E",
    "itemize": "Ctrl-I"
   },
   "labels_anchors": false,
   "latex_user_defs": false,
   "report_style_numbering": false,
   "user_envs_cfg": false
  },
  "nav_menu": {},
  "toc": {
   "base_numbering": "8",
   "nav_menu": {
    "height": "512px",
    "width": "252px"
   },
   "number_sections": false,
   "sideBar": true,
   "skip_h1_title": false,
   "title_cell": "Table of Contents",
   "title_sidebar": "Contents",
   "toc_cell": false,
   "toc_position": {
    "height": "545px",
    "left": "0px",
    "right": "1078px",
    "top": "111px",
    "width": "342px"
   },
   "toc_section_display": "block",
   "toc_window_display": false
  },
  "toc_position": {
   "height": "556px",
   "left": "0px",
   "right": "1057px",
   "top": "107px",
   "width": "309px"
  }
 },
 "nbformat": 4,
 "nbformat_minor": 1
}
